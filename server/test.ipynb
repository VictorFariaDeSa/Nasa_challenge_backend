{
 "cells": [
  {
   "cell_type": "code",
   "execution_count": null,
   "id": "1d9b96f3",
   "metadata": {},
   "outputs": [],
   "source": [
    "from postgress_integration.tables import article_author_table,articles_table,authors_table,categories_table,mentions_table,topic_article_table,topic_category_table,topics_table\n"
   ]
  },
  {
   "cell_type": "code",
   "execution_count": 11,
   "id": "750a2e42",
   "metadata": {},
   "outputs": [
    {
     "name": "stdout",
     "output_type": "stream",
     "text": [
      "All topics: [{'id': 1, 'name': 'Space Apps', 'summary': 'Trending topics about NASA'}]\n"
     ]
    }
   ],
   "source": [
    "topic = TopicCreate(name=\"Space Apps\", summary=\"Trending topics about NASA\")\n",
    "await database.connect() \n",
    "await create(topic)\n",
    "all_topics = await get_all()\n",
    "print(\"All topics:\", all_topics)"
   ]
  },
  {
   "cell_type": "code",
   "execution_count": null,
   "id": "8d48bf14",
   "metadata": {},
   "outputs": [
    {
     "ename": "AssertionError",
     "evalue": "DatabaseBackend is not running",
     "output_type": "error",
     "traceback": [
      "\u001b[31m---------------------------------------------------------------------------\u001b[39m",
      "\u001b[31mAssertionError\u001b[39m                            Traceback (most recent call last)",
      "\u001b[36mCell\u001b[39m\u001b[36m \u001b[39m\u001b[32mIn[2]\u001b[39m\u001b[32m, line 4\u001b[39m\n\u001b[32m      1\u001b[39m \u001b[38;5;28;01mfrom\u001b[39;00m\u001b[38;5;250m \u001b[39m\u001b[34;01mpostgress_integration\u001b[39;00m\u001b[34;01m.\u001b[39;00m\u001b[34;01mtables\u001b[39;00m\u001b[38;5;250m \u001b[39m\u001b[38;5;28;01mimport\u001b[39;00m article_author_table,articles_table,authors_table,categories_table,mentions_table,topic_article_table,topic_category_table,topics_table\n\u001b[32m      3\u001b[39m author = authors_table.Create_author(\u001b[33m\"\u001b[39m\u001b[33mnome\u001b[39m\u001b[33m\"\u001b[39m)\n\u001b[32m----> \u001b[39m\u001b[32m4\u001b[39m \u001b[38;5;28;01mawait\u001b[39;00m authors_table.Insert_author(author)\n\u001b[32m      5\u001b[39m all_topics = \u001b[38;5;28;01mawait\u001b[39;00m authors_table.get_all()\n\u001b[32m      6\u001b[39m \u001b[38;5;28mprint\u001b[39m(all_topics)\n",
      "\u001b[36mFile \u001b[39m\u001b[32m/server/postgress_integration/tables/authors_table.py:26\u001b[39m, in \u001b[36mTO_authors_table.Insert_author\u001b[39m\u001b[34m(self, new_row)\u001b[39m\n\u001b[32m     24\u001b[39m \u001b[38;5;28;01masync\u001b[39;00m \u001b[38;5;28;01mdef\u001b[39;00m\u001b[38;5;250m \u001b[39m\u001b[34mInsert_author\u001b[39m(\u001b[38;5;28mself\u001b[39m,new_row: AuthorRow):\n\u001b[32m     25\u001b[39m     query = \u001b[38;5;28mself\u001b[39m.table.insert().values(name=new_row.name)\n\u001b[32m---> \u001b[39m\u001b[32m26\u001b[39m     last_record_id = \u001b[38;5;28;01mawait\u001b[39;00m \u001b[38;5;28mself\u001b[39m.database.execute(query)\n\u001b[32m     27\u001b[39m     \u001b[38;5;28;01mreturn\u001b[39;00m {\u001b[33m\"\u001b[39m\u001b[33mid\u001b[39m\u001b[33m\"\u001b[39m: last_record_id}\n",
      "\u001b[36mFile \u001b[39m\u001b[32m/usr/local/lib/python3.11/site-packages/databases/core.py:198\u001b[39m, in \u001b[36mDatabase.execute\u001b[39m\u001b[34m(self, query, values)\u001b[39m\n\u001b[32m    193\u001b[39m \u001b[38;5;28;01masync\u001b[39;00m \u001b[38;5;28;01mdef\u001b[39;00m\u001b[38;5;250m \u001b[39m\u001b[34mexecute\u001b[39m(\n\u001b[32m    194\u001b[39m     \u001b[38;5;28mself\u001b[39m,\n\u001b[32m    195\u001b[39m     query: typing.Union[ClauseElement, \u001b[38;5;28mstr\u001b[39m],\n\u001b[32m    196\u001b[39m     values: typing.Optional[\u001b[38;5;28mdict\u001b[39m] = \u001b[38;5;28;01mNone\u001b[39;00m,\n\u001b[32m    197\u001b[39m ) -> typing.Any:\n\u001b[32m--> \u001b[39m\u001b[32m198\u001b[39m     \u001b[38;5;28;01masync\u001b[39;00m \u001b[38;5;28;01mwith\u001b[39;00m \u001b[38;5;28mself\u001b[39m.connection() \u001b[38;5;28;01mas\u001b[39;00m connection:\n\u001b[32m    199\u001b[39m         \u001b[38;5;28;01mreturn\u001b[39;00m \u001b[38;5;28;01mawait\u001b[39;00m connection.execute(query, values)\n",
      "\u001b[36mFile \u001b[39m\u001b[32m/usr/local/lib/python3.11/site-packages/databases/core.py:267\u001b[39m, in \u001b[36mConnection.__aenter__\u001b[39m\u001b[34m(self)\u001b[39m\n\u001b[32m    265\u001b[39m     \u001b[38;5;28;01mexcept\u001b[39;00m \u001b[38;5;167;01mBaseException\u001b[39;00m \u001b[38;5;28;01mas\u001b[39;00m e:\n\u001b[32m    266\u001b[39m         \u001b[38;5;28mself\u001b[39m._connection_counter -= \u001b[32m1\u001b[39m\n\u001b[32m--> \u001b[39m\u001b[32m267\u001b[39m         \u001b[38;5;28;01mraise\u001b[39;00m e\n\u001b[32m    268\u001b[39m \u001b[38;5;28;01mreturn\u001b[39;00m \u001b[38;5;28mself\u001b[39m\n",
      "\u001b[36mFile \u001b[39m\u001b[32m/usr/local/lib/python3.11/site-packages/databases/core.py:264\u001b[39m, in \u001b[36mConnection.__aenter__\u001b[39m\u001b[34m(self)\u001b[39m\n\u001b[32m    262\u001b[39m \u001b[38;5;28;01mtry\u001b[39;00m:\n\u001b[32m    263\u001b[39m     \u001b[38;5;28;01mif\u001b[39;00m \u001b[38;5;28mself\u001b[39m._connection_counter == \u001b[32m1\u001b[39m:\n\u001b[32m--> \u001b[39m\u001b[32m264\u001b[39m         \u001b[38;5;28;01mawait\u001b[39;00m \u001b[38;5;28mself\u001b[39m._connection.acquire()\n\u001b[32m    265\u001b[39m \u001b[38;5;28;01mexcept\u001b[39;00m \u001b[38;5;167;01mBaseException\u001b[39;00m \u001b[38;5;28;01mas\u001b[39;00m e:\n\u001b[32m    266\u001b[39m     \u001b[38;5;28mself\u001b[39m._connection_counter -= \u001b[32m1\u001b[39m\n",
      "\u001b[36mFile \u001b[39m\u001b[32m/usr/local/lib/python3.11/site-packages/databases/backends/postgres.py:93\u001b[39m, in \u001b[36mPostgresConnection.acquire\u001b[39m\u001b[34m(self)\u001b[39m\n\u001b[32m     91\u001b[39m \u001b[38;5;28;01masync\u001b[39;00m \u001b[38;5;28;01mdef\u001b[39;00m\u001b[38;5;250m \u001b[39m\u001b[34macquire\u001b[39m(\u001b[38;5;28mself\u001b[39m) -> \u001b[38;5;28;01mNone\u001b[39;00m:\n\u001b[32m     92\u001b[39m     \u001b[38;5;28;01massert\u001b[39;00m \u001b[38;5;28mself\u001b[39m._connection \u001b[38;5;129;01mis\u001b[39;00m \u001b[38;5;28;01mNone\u001b[39;00m, \u001b[33m\"\u001b[39m\u001b[33mConnection is already acquired\u001b[39m\u001b[33m\"\u001b[39m\n\u001b[32m---> \u001b[39m\u001b[32m93\u001b[39m     \u001b[38;5;28;01massert\u001b[39;00m \u001b[38;5;28mself\u001b[39m._database._pool \u001b[38;5;129;01mis\u001b[39;00m \u001b[38;5;129;01mnot\u001b[39;00m \u001b[38;5;28;01mNone\u001b[39;00m, \u001b[33m\"\u001b[39m\u001b[33mDatabaseBackend is not running\u001b[39m\u001b[33m\"\u001b[39m\n\u001b[32m     94\u001b[39m     \u001b[38;5;28mself\u001b[39m._connection = \u001b[38;5;28;01mawait\u001b[39;00m \u001b[38;5;28mself\u001b[39m._database._pool.acquire()\n",
      "\u001b[31mAssertionError\u001b[39m: DatabaseBackend is not running"
     ]
    }
   ],
   "source": [
    "\n",
    "author = authors_table.Create_author(\"nome\")\n",
    "await authors_table.Insert_author(author)\n",
    "all_topics = await authors_table.get_all()\n",
    "print(all_topics)"
   ]
  },
  {
   "cell_type": "code",
   "execution_count": null,
   "id": "ae6923d9",
   "metadata": {},
   "outputs": [],
   "source": []
  }
 ],
 "metadata": {
  "kernelspec": {
   "display_name": "Python 3",
   "language": "python",
   "name": "python3"
  },
  "language_info": {
   "codemirror_mode": {
    "name": "ipython",
    "version": 3
   },
   "file_extension": ".py",
   "mimetype": "text/x-python",
   "name": "python",
   "nbconvert_exporter": "python",
   "pygments_lexer": "ipython3",
   "version": "3.11.13"
  }
 },
 "nbformat": 4,
 "nbformat_minor": 5
}
