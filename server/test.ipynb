{
 "cells": [
  {
   "cell_type": "code",
   "execution_count": 1,
   "id": "1d9b96f3",
   "metadata": {},
   "outputs": [],
   "source": [
    "from postgress_integration.tables import article_author_table,articles_table,authors_table,categories_table,mentions_table,topic_article_table,topic_category_table,topics_table\n",
    "from postgress_integration.db_interface import database"
   ]
  },
  {
   "cell_type": "code",
   "execution_count": 2,
   "id": "8d48bf14",
   "metadata": {},
   "outputs": [
    {
     "name": "stdout",
     "output_type": "stream",
     "text": [
      "[{'id': 1, 'name': 'nome'}, {'id': 2, 'name': 'nome'}]\n"
     ]
    }
   ],
   "source": [
    "await database.connect() \n",
    "author = authors_table.Create_author(\"nome\")\n",
    "await authors_table.Insert_author(author)\n",
    "all_topics = await authors_table.get_all()\n",
    "print(all_topics)"
   ]
  },
  {
   "cell_type": "code",
   "execution_count": null,
   "id": "ae6923d9",
   "metadata": {},
   "outputs": [],
   "source": []
  }
 ],
 "metadata": {
  "kernelspec": {
   "display_name": "Python 3",
   "language": "python",
   "name": "python3"
  },
  "language_info": {
   "codemirror_mode": {
    "name": "ipython",
    "version": 3
   },
   "file_extension": ".py",
   "mimetype": "text/x-python",
   "name": "python",
   "nbconvert_exporter": "python",
   "pygments_lexer": "ipython3",
   "version": "3.11.13"
  }
 },
 "nbformat": 4,
 "nbformat_minor": 5
}
