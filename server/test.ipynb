{
 "cells": [
  {
   "cell_type": "code",
   "execution_count": 7,
   "id": "1d9b96f3",
   "metadata": {},
   "outputs": [],
   "source": [
    "from postgress_integration.crud import TopicCreate, create, get_all, database"
   ]
  },
  {
   "cell_type": "code",
   "execution_count": 11,
   "id": "750a2e42",
   "metadata": {},
   "outputs": [
    {
     "name": "stdout",
     "output_type": "stream",
     "text": [
      "All topics: [{'id': 1, 'name': 'Space Apps', 'summary': 'Trending topics about NASA'}]\n"
     ]
    }
   ],
   "source": [
    "topic = TopicCreate(name=\"Space Apps\", summary=\"Trending topics about NASA\")\n",
    "await database.connect() \n",
    "await create(topic)\n",
    "all_topics = await get_all()\n",
    "print(\"All topics:\", all_topics)"
   ]
  },
  {
   "cell_type": "code",
   "execution_count": null,
   "id": "8d48bf14",
   "metadata": {},
   "outputs": [
    {
     "name": "stdout",
     "output_type": "stream",
     "text": [
      "All topics: []\n"
     ]
    }
   ],
   "source": []
  },
  {
   "cell_type": "code",
   "execution_count": null,
   "id": "ae6923d9",
   "metadata": {},
   "outputs": [],
   "source": []
  }
 ],
 "metadata": {
  "kernelspec": {
   "display_name": "Python 3",
   "language": "python",
   "name": "python3"
  },
  "language_info": {
   "codemirror_mode": {
    "name": "ipython",
    "version": 3
   },
   "file_extension": ".py",
   "mimetype": "text/x-python",
   "name": "python",
   "nbconvert_exporter": "python",
   "pygments_lexer": "ipython3",
   "version": "3.11.13"
  }
 },
 "nbformat": 4,
 "nbformat_minor": 5
}
