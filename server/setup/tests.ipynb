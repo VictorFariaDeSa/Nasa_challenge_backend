{
 "cells": [
  {
   "cell_type": "code",
   "execution_count": null,
   "id": "183c5069",
   "metadata": {},
   "outputs": [
    {
     "name": "stderr",
     "output_type": "stream",
     "text": [
      "/usr/local/lib/python3.11/site-packages/tqdm/auto.py:21: TqdmWarning: IProgress not found. Please update jupyter and ipywidgets. See https://ipywidgets.readthedocs.io/en/stable/user_install.html\n",
      "  from .autonotebook import tqdm as notebook_tqdm\n",
      "WARNING: All log messages before absl::InitializeLog() is called are written to STDERR\n",
      "E0000 00:00:1759649497.981069     781 alts_credentials.cc:93] ALTS creds ignored. Not running on GCP and untrusted ALTS is not enabled.\n"
     ]
    },
    {
     "data": {
      "text/plain": [
       "<bound method Setup_handler.Fill_database of <Setup_handler.Setup_handler object at 0x71b9e5a43350>>"
      ]
     },
     "execution_count": 1,
     "metadata": {},
     "output_type": "execute_result"
    }
   ],
   "source": [
    "import sys\n",
    "from pathlib import Path\n",
    "\n",
    "# adiciona a pasta pai do notebook ao sys.path\n",
    "sys.path.append(str(Path.cwd().parent))\n",
    "from Setup_handler import Setup_handler\n",
    "from postgress_integration.db_interface import database\n",
    "from setup.Setup_worker import Setup_worker\n",
    "from setup.Webscrapper import Webscrapper\n",
    "import pandas as pd\n",
    "\n",
    "setup_handler = Setup_handler(database,\"SB_publication_PMC.csv\")\n",
    "setup_handler.Start_handler_values(n=30)\n",
    "await setup_handler.Fill_database()\n",
    "# setup_handler.Configure_trending_topics(15)"
   ]
  },
  {
   "cell_type": "code",
   "execution_count": 2,
   "id": "4bb9165d",
   "metadata": {},
   "outputs": [
    {
     "data": {
      "text/plain": [
       "<coroutine object Setup_handler.Fill_database at 0x71bb366669b0>"
      ]
     },
     "execution_count": 2,
     "metadata": {},
     "output_type": "execute_result"
    }
   ],
   "source": [
    "setup_handler.Fill_database()"
   ]
  },
  {
   "cell_type": "code",
   "execution_count": 2,
   "id": "ea7c4d47",
   "metadata": {},
   "outputs": [
    {
     "name": "stdout",
     "output_type": "stream",
     "text": [
      "--------\n",
      "space\n",
      "1\n",
      "37\n",
      "--------\n",
      "spaceflight\n",
      "2\n",
      "37\n",
      "--------\n",
      "radiation\n",
      "18\n",
      "37\n",
      "--------\n",
      "microgravity\n",
      "5\n",
      "37\n",
      "--------\n",
      "bone\n",
      "4\n",
      "37\n",
      "--------\n",
      "effects\n",
      "26\n",
      "37\n",
      "--------\n",
      "mice\n",
      "3\n",
      "37\n",
      "--------\n",
      "cell\n",
      "6\n",
      "38\n",
      "--------\n",
      "expression\n",
      "8\n",
      "38\n",
      "--------\n",
      "protein\n",
      "22\n",
      "38\n",
      "--------\n",
      "radiation\n",
      "18\n",
      "38\n",
      "--------\n",
      "microgravity\n",
      "5\n",
      "38\n",
      "--------\n",
      "effects\n",
      "26\n",
      "38\n",
      "--------\n",
      "mscl\n",
      "30\n",
      "38\n",
      "--------\n",
      "bone\n",
      "4\n",
      "38\n",
      "--------\n",
      "actin\n",
      "23\n",
      "39\n",
      "--------\n",
      "root\n",
      "25\n",
      "39\n",
      "--------\n",
      "protein\n",
      "22\n",
      "39\n",
      "--------\n",
      "cell\n",
      "6\n",
      "39\n",
      "--------\n",
      "expression\n",
      "8\n",
      "40\n",
      "--------\n",
      "data\n",
      "10\n",
      "40\n",
      "--------\n",
      "studies\n",
      "28\n",
      "40\n",
      "--------\n",
      "space\n",
      "1\n",
      "40\n",
      "--------\n",
      "spaceflight\n",
      "2\n",
      "40\n",
      "--------\n",
      "mice\n",
      "3\n",
      "41\n",
      "--------\n",
      "studies\n",
      "28\n",
      "41\n",
      "--------\n",
      "space\n",
      "1\n",
      "41\n",
      "--------\n",
      "spaceflight\n",
      "2\n",
      "41\n",
      "--------\n",
      "microgravity\n",
      "5\n",
      "41\n",
      "--------\n",
      "protein\n",
      "22\n",
      "42\n",
      "--------\n",
      "mscl\n",
      "30\n",
      "42\n",
      "--------\n",
      "cell\n",
      "6\n",
      "42\n",
      "--------\n",
      "actin\n",
      "23\n",
      "42\n"
     ]
    }
   ],
   "source": [
    "topics_dict = \"{'space': 'This topic covers the biological and physiological impacts of space environments, including microgravity and radiation, on various organisms (mice, Drosophila) and human health, addressing aspects like muscle atrophy, cardiovascular changes, immune response, bone loss, and cancer risk, often utilizing NASA research platforms like GeneLab for translational research.', 'spaceflight': 'This topic investigates the biological effects of spaceflight, including muscle atrophy, oxidative stress, cardiovascular changes, altered immune responses, aging, bone loss, and radiation damage, often identifying molecular signatures like miRNAs and potential health risks for astronauts.', 'radiation': 'This topic explores the biological impacts of space and ionizing radiation, including effects on DNA methylation, oxidative stress, skeletal health, and the cardiovascular system, often using animal models to identify damage, potential countermeasures, and long-term risks like cancer.', 'microgravity': 'This topic examines the physiological and cellular effects of microgravity, including impacts on stem cell differentiation, cardiac function, immune responses, and significant bone loss, often investigated in model organisms like Drosophila and mice, with implications for astronaut health.', 'cell': 'This topic encompasses research on cellular responses to various stimuli, including microgravity and radiation, focusing on stem cell differentiation, DNA methylation, oxidative stress, cell cycle regulation, and mechanosensitive channels, with some studies also addressing plant cell signaling and cytoskeletal dynamics.', 'expression': 'This topic primarily focuses on gene and miRNA expression patterns, DNA methylation, and molecular responses to stressors like spaceflight and radiation, including oxidative stress, muscle atrophy, bone loss, and changes in frailty biomarkers.', 'protein': 'This topic investigates the function and dynamics of various proteins, including those involved in plant cellular trafficking (SNARE, TNO1, HLB1), Drosophila spermatogenesis (SUN protein Spag4), and bacterial mechanosensitive channels (MscL, MscS), often exploring their structure, interactions, and roles in cellular processes.', 'actin': 'This topic explores the critical role of the actin cytoskeleton in plant biology, particularly its organization and dynamics in processes like root straightening, root hair development, and the regulation of plant gravity sensing and signaling.', 'bone': 'This topic focuses on bone health and its alterations, particularly due to space-like radiation and microgravity, investigating impacts on skeletal system mechanics, collagen structure, stem cell health, and the cellular mechanisms of bone loss (osteoclastic/osteoblastic activity).', 'root': 'This topic investigates plant root biology, focusing on processes like gravitropism, lateral root emergence, and root hair development in Arabidopsis thaliana, often exploring the roles of specific proteins (e.g., trans-Golgi network proteins) and the actin cytoskeleton in sensing and responding to gravity.', 'effects': 'This topic broadly examines the physiological and cellular effects of various environmental stressors, including microgravity, space radiation, and infection (e.g., SARS-CoV-2), on biological systems, covering impacts on cardiac function, immune responses, bone structure, and overall organismal health.', 'mice': 'This topic utilizes mice as a primary model organism to study the biological effects of space missions, microgravity, and radiation, focusing on impacts such as muscle atrophy, oxidative stress, cardiovascular changes, bone loss, and overall skeletal health.', 'studies': 'This topic encompasses a range of research investigations, including studies on microgravity, cellular imaging, protein function, and the biological responses to space radiation, often leveraging databases like GeneLab and employing diverse experimental approaches.', 'data': 'This topic focuses on the generation, analysis, and management of biological data, including omics data (gene expression, miRNA signatures), DNA methylation patterns, and biomarkers, often in the context of spaceflight research and the use of platforms like GeneLab.', 'mscl': 'This topic specifically investigates the mechanosensitive channel of large conductance (MscL), exploring its structure, oligomeric state, protein-lipid interactions, and mechanisms of channel kinetics and mechanosensitivity, often with a focus on its function as a microbial emergency release valve.'}\"\n",
    "\n",
    "await setup_handler.Fill_categories_table(6,topics_dict)\n",
    "await setup_handler.Fill_topic_category_table(setup_handler.categories_dict)\n"
   ]
  },
  {
   "cell_type": "code",
   "execution_count": 3,
   "id": "9e39e102",
   "metadata": {},
   "outputs": [
    {
     "name": "stdout",
     "output_type": "stream",
     "text": [
      "Space Environment Impacts and Health\n",
      "Cellular and Molecular Mechanisms\n",
      "Omics, Data Science, and Biomarkers\n",
      "Model Systems and Experimental Approaches\n",
      "Plant Biology and Gravitational Sensing\n",
      "Specialized Biological Systems and Structures\n"
     ]
    }
   ],
   "source": [
    "for category in categories.keys():\n",
    "    print(categories[category][\"category_name\"])"
   ]
  },
  {
   "cell_type": "code",
   "execution_count": 2,
   "id": "bcdf9ff9",
   "metadata": {},
   "outputs": [
    {
     "name": "stdout",
     "output_type": "stream",
     "text": [
      "{'space': 'This topic covers the biological and physiological impacts of space environments, including microgravity and radiation, on various organisms (mice, Drosophila) and human health, addressing aspects like muscle atrophy, cardiovascular changes, immune response, bone loss, and cancer risk, often utilizing NASA research platforms like GeneLab for translational research.', 'spaceflight': 'This topic investigates the biological effects of spaceflight, including muscle atrophy, oxidative stress, cardiovascular changes, altered immune responses, aging, bone loss, and radiation damage, often identifying molecular signatures like miRNAs and potential health risks for astronauts.', 'radiation': 'This topic explores the biological impacts of space and ionizing radiation, including effects on DNA methylation, oxidative stress, skeletal health, and the cardiovascular system, often using animal models to identify damage, potential countermeasures, and long-term risks like cancer.', 'microgravity': 'This topic examines the physiological and cellular effects of microgravity, including impacts on stem cell differentiation, cardiac function, immune responses, and significant bone loss, often investigated in model organisms like Drosophila and mice, with implications for astronaut health.', 'cell': 'This topic encompasses research on cellular responses to various stimuli, including microgravity and radiation, focusing on stem cell differentiation, DNA methylation, oxidative stress, cell cycle regulation, and mechanosensitive channels, with some studies also addressing plant cell signaling and cytoskeletal dynamics.', 'expression': 'This topic primarily focuses on gene and miRNA expression patterns, DNA methylation, and molecular responses to stressors like spaceflight and radiation, including oxidative stress, muscle atrophy, bone loss, and changes in frailty biomarkers.', 'protein': 'This topic investigates the function and dynamics of various proteins, including those involved in plant cellular trafficking (SNARE, TNO1, HLB1), Drosophila spermatogenesis (SUN protein Spag4), and bacterial mechanosensitive channels (MscL, MscS), often exploring their structure, interactions, and roles in cellular processes.', 'actin': 'This topic explores the critical role of the actin cytoskeleton in plant biology, particularly its organization and dynamics in processes like root straightening, root hair development, and the regulation of plant gravity sensing and signaling.', 'bone': 'This topic focuses on bone health and its alterations, particularly due to space-like radiation and microgravity, investigating impacts on skeletal system mechanics, collagen structure, stem cell health, and the cellular mechanisms of bone loss (osteoclastic/osteoblastic activity).', 'root': 'This topic investigates plant root biology, focusing on processes like gravitropism, lateral root emergence, and root hair development in Arabidopsis thaliana, often exploring the roles of specific proteins (e.g., trans-Golgi network proteins) and the actin cytoskeleton in sensing and responding to gravity.', 'effects': 'This topic broadly examines the physiological and cellular effects of various environmental stressors, including microgravity, space radiation, and infection (e.g., SARS-CoV-2), on biological systems, covering impacts on cardiac function, immune responses, bone structure, and overall organismal health.', 'mice': 'This topic utilizes mice as a primary model organism to study the biological effects of space missions, microgravity, and radiation, focusing on impacts such as muscle atrophy, oxidative stress, cardiovascular changes, bone loss, and overall skeletal health.', 'studies': 'This topic encompasses a range of research investigations, including studies on microgravity, cellular imaging, protein function, and the biological responses to space radiation, often leveraging databases like GeneLab and employing diverse experimental approaches.', 'data': 'This topic focuses on the generation, analysis, and management of biological data, including omics data (gene expression, miRNA signatures), DNA methylation patterns, and biomarkers, often in the context of spaceflight research and the use of platforms like GeneLab.', 'mscl': 'This topic specifically investigates the mechanosensitive channel of large conductance (MscL), exploring its structure, oligomeric state, protein-lipid interactions, and mechanisms of channel kinetics and mechanosensitivity, often with a focus on its function as a microbial emergency release valve.'}\n"
     ]
    }
   ],
   "source": [
    "await setup_handler.Fill_topics_table()"
   ]
  },
  {
   "cell_type": "code",
   "execution_count": 13,
   "id": "8d7e9e20",
   "metadata": {},
   "outputs": [],
   "source": [
    "await setup_handler.Fill_authors_table()"
   ]
  },
  {
   "cell_type": "code",
   "execution_count": 15,
   "id": "bf175dc6",
   "metadata": {},
   "outputs": [],
   "source": [
    "await setup_handler.Fill_articles_table()"
   ]
  },
  {
   "cell_type": "code",
   "execution_count": 3,
   "id": "d6d01862",
   "metadata": {},
   "outputs": [
    {
     "name": "stdout",
     "output_type": "stream",
     "text": [
      "[]\n"
     ]
    }
   ],
   "source": [
    "from postgress_integration.tables import topics_table, categories_table\n",
    "await setup_handler.database.connect()\n",
    "print(await categories_table.get_all())\n",
    "await setup_handler.database.disconnect()\n"
   ]
  },
  {
   "cell_type": "code",
   "execution_count": 3,
   "id": "07945d5b",
   "metadata": {},
   "outputs": [
    {
     "ename": "AttributeError",
     "evalue": "'Setup_handler' object has no attribute 'relaetd_articles'",
     "output_type": "error",
     "traceback": [
      "\u001b[31m---------------------------------------------------------------------------\u001b[39m",
      "\u001b[31mAttributeError\u001b[39m                            Traceback (most recent call last)",
      "\u001b[36mCell\u001b[39m\u001b[36m \u001b[39m\u001b[32mIn[3]\u001b[39m\u001b[32m, line 5\u001b[39m\n\u001b[32m      3\u001b[39m \u001b[38;5;28;01mawait\u001b[39;00m topic_article_table.clear_table()\n\u001b[32m      4\u001b[39m \u001b[38;5;28;01mawait\u001b[39;00m setup_handler.database.disconnect()\n\u001b[32m----> \u001b[39m\u001b[32m5\u001b[39m \u001b[38;5;28;01mawait\u001b[39;00m setup_handler.Fill_topic_article_table()\n",
      "\u001b[36mFile \u001b[39m\u001b[32m/server/setup/Setup_handler.py:42\u001b[39m, in \u001b[36mSetup_handler.Fill_topic_article_table\u001b[39m\u001b[34m(self)\u001b[39m\n\u001b[32m     40\u001b[39m \u001b[38;5;28;01masync\u001b[39;00m \u001b[38;5;28;01mdef\u001b[39;00m\u001b[38;5;250m \u001b[39m\u001b[34mFill_topic_article_table\u001b[39m(\u001b[38;5;28mself\u001b[39m):\n\u001b[32m     41\u001b[39m     \u001b[38;5;28;01mawait\u001b[39;00m \u001b[38;5;28mself\u001b[39m.database.connect()\n\u001b[32m---> \u001b[39m\u001b[32m42\u001b[39m     \u001b[38;5;28;01mfor\u001b[39;00m topic \u001b[38;5;129;01min\u001b[39;00m \u001b[38;5;28;43mself\u001b[39;49m\u001b[43m.\u001b[49m\u001b[43mrelaetd_articles\u001b[49m:\n\u001b[32m     43\u001b[39m         topic_id = \u001b[38;5;28;01mawait\u001b[39;00m topics_table.Get_id_by_name(topic)\n\u001b[32m     44\u001b[39m         \u001b[38;5;28;01mfor\u001b[39;00m article_index \u001b[38;5;129;01min\u001b[39;00m \u001b[38;5;28mself\u001b[39m.relaetd_articles[topic]:\n",
      "\u001b[31mAttributeError\u001b[39m: 'Setup_handler' object has no attribute 'relaetd_articles'"
     ]
    }
   ],
   "source": [
    "from postgress_integration.tables import topic_article_table\n",
    "await setup_handler.database.connect()\n",
    "await topic_article_table.clear_table()\n",
    "await setup_handler.database.disconnect()\n",
    "await setup_handler.Fill_topic_article_table()"
   ]
  },
  {
   "cell_type": "code",
   "execution_count": 7,
   "id": "70a2c34b",
   "metadata": {},
   "outputs": [
    {
     "name": "stdout",
     "output_type": "stream",
     "text": [
      "['Rahul Roy', 'Diane C Bassham']\n"
     ]
    }
   ],
   "source": [
    "print(setup_handler.web_dict[\"authors\"][16])"
   ]
  },
  {
   "cell_type": "code",
   "execution_count": 3,
   "id": "7edfdf65",
   "metadata": {},
   "outputs": [
    {
     "name": "stdout",
     "output_type": "stream",
     "text": [
      "Rahul Roy\n",
      "Root growth movements: Waving and skewing.\n"
     ]
    }
   ],
   "source": [
    "print(await authors_table.Get_name_by_id(114))\n",
    "print(await articles_table.Get_name_by_id(29))\n"
   ]
  },
  {
   "cell_type": "code",
   "execution_count": 4,
   "id": "6320aace",
   "metadata": {},
   "outputs": [],
   "source": [
    "from postgress_integration.tables import authors_table, articles_table, article_author_table, topics_table\n",
    "await setup_handler.database.connect()\n",
    "await article_author_table.clear_table()\n",
    "await setup_handler.database.disconnect()\n",
    "await setup_handler.Fill_article_author_table()"
   ]
  },
  {
   "cell_type": "code",
   "execution_count": 2,
   "id": "2c5ca530",
   "metadata": {},
   "outputs": [],
   "source": [
    "await setup_handler.Fill_topics_table()"
   ]
  },
  {
   "cell_type": "code",
   "execution_count": 4,
   "id": "0072a597",
   "metadata": {},
   "outputs": [
    {
     "name": "stdout",
     "output_type": "stream",
     "text": [
      "[{'id': 1, 'name': 'space', 'summary': \"This topic encompasses comprehensive research into the biological impacts of the space environment (microgravity, space radiation) on diverse organisms, including humans (astronauts), mice, Drosophila, plants, and various microbial species. Studies extensively utilize 'omics' approaches (genomics, transcriptomics, proteomics, metabolomics, multi-omics) and NASA's GeneLab platform to investigate physiological, molecular, and cellular changes in various systems such as bone, muscle, cardiovascular, immune, nervous, and reproductive systems. Key areas of focus include bone and muscle loss, radiation damage, immune system alterations, host-microbe interactions, plant growth and development, and the potential for pathogenicity of microorganisms in space. The research aims to understand adaptation to space, develop countermeasures for health risks (e.g., cancer, cardiovascular disease, neurodegeneration), and support future human exploration, habitation, and resource utilization (e.g., space biomining, food production) beyond low-Earth orbit. Ethical considerations and the use of ground-based analogs are also explored.\"}, {'id': 2, 'name': 'spaceflight', 'summary': \"This topic focuses on the profound biological and physiological effects of spaceflight on living organisms, including humans (astronauts), mice, Drosophila, plants, and microbes. Research extensively uses 'omics' technologies (genomics, transcriptomics, proteomics, metabolomics, multi-omics) and NASA's GeneLab to characterize changes in various organ systems (e.g., cardiovascular, musculoskeletal, immune, nervous, reproductive, liver, kidney) and at the cellular and molecular levels. Key areas of investigation include muscle atrophy, bone loss, radiation-induced damage, oxidative stress, immune dysfunction, neurovascular remodeling, host-microbe interactions, biofilm formation, and plant adaptation. The overarching goal is to understand the mechanisms of adaptation and disease in space, develop effective countermeasures for long-duration missions, and support human health, exploration, and habitation beyond low-Earth orbit. Simulated microgravity and artificial gravity are also explored as research tools and potential mitigations.\"}, {'id': 3, 'name': 'mice', 'summary': 'This topic details extensive research using mouse models to investigate the biological effects of spaceflight, microgravity, and space radiation. Studies cover a wide range of physiological systems including bone (pelvic, vertebral, cortical, cancellous), muscle, cardiovascular, immune, nervous (brain, retina, olfactory bulb), and reproductive systems. Key areas explored involve muscle atrophy, bone loss, oxidative stress, radiation-induced DNA damage, immune dysfunction, neurogenesis, aging, and metabolic alterations. Researchers employ advanced omics technologies (RNAseq, microarray, multi-omics, epigenomics) and GeneLab data analysis to understand molecular mechanisms, identify biomarkers, and develop potential countermeasures for maintaining astronaut health during long-duration space missions. The research also utilizes various ground-based analogs like hindlimb unloading and simulated microgravity to complement spaceflight experiments.'}, {'id': 4, 'name': 'bone', 'summary': 'This topic investigates the multifaceted impacts of spaceflight, microgravity, space radiation, and mechanical unloading on bone health and physiology. Research focuses on understanding the mechanisms leading to bone loss (e.g., pelvic, vertebral, cortical, cancellous) and associated changes in bone density, architecture, and mechanical properties. Studies explore cellular processes such as osteoclastic activity, osteocytic osteolysis, osteoblastic cell cycle inhibition, and the role of mesenchymal stem cells. The interplay with other systems, including muscle, vasculature, immune system, and endocrine factors (e.g., leptin, estrogen), is also a significant focus. Advanced techniques, including omics analyses and imaging, are used to identify genetic and molecular pathways involved, aiming to develop effective countermeasures and therapeutic strategies for preserving bone health during space missions and for terrestrial applications.'}, {'id': 5, 'name': 'microgravity', 'summary': 'This topic delves into the diverse biological and physiological consequences of microgravity and simulated microgravity on a wide array of living systems, from embryonic stem cells and human neural cells to mice, Drosophila, plants, and various microbial communities. Research investigates its effects on bone loss, muscle atrophy, cardiovascular function, immune responses, neurogenesis, and plant development. A significant focus is on molecular-level changes, utilizing omics technologies (transcriptomics, proteomics, metabolomics, epigenomics) to understand gene expression, metabolic pathways, and cellular stress responses (e.g., oxidative stress, mitochondrial function, DNA damage). Studies also examine host-microbe interactions, microbial virulence, and biofilm formation, often in the context of the International Space Station. The ultimate goal is to understand adaptation to altered gravity, develop countermeasures for health risks, and advance stem cell therapies, astrobiology, and sustainable human presence in space.'}, {'id': 6, 'name': 'cell', 'summary': 'This topic explores the fundamental biological responses and mechanisms within individual cells across diverse organisms—from human stem and immune cells to plant and microbial cells—when exposed to space environmental factors like microgravity and radiation. Research investigates critical cellular processes such as differentiation, proliferation, gene expression, DNA damage, oxidative stress, and mechanotransduction. It delves into the roles of specific cellular components, including cytoskeletal elements, mechanosensitive channels, and mitochondrial function, aiming to understand how these elements govern cellular adaptation and vulnerability in space. The insights gained are crucial for developing cellular therapies, addressing astronaut health risks, and advancing fundamental cell biology in extreme environments.'}, {'id': 7, 'name': 'cells', 'summary': 'This topic examines the collective and individual behaviors of various cell populations, including human stem cells, immune cells (macrophages, NK cells, T-cells), plant cells, and microbial communities, under space-related conditions such as microgravity and radiation. Research focuses on how these environmental stressors impact cell differentiation, proliferation, metabolism, gene expression, and particularly host-pathogen interactions, microbial virulence, and biofilm formation. Studies also investigate the influence on cellular structures, signaling pathways (e.g., calcium signaling), and genetic stability. The findings contribute to understanding immune dysfunction, developing cellular countermeasures for astronaut health, and exploring astrobiological implications and the utilization of biological systems in space.'}, {'id': 8, 'name': 'expression', 'summary': 'This topic investigates the dynamic changes in gene, protein, and molecular expression profiles in response to spaceflight, microgravity, and radiation across diverse biological models, including human cells, mice, Drosophila, plants, and microbes. Research extensively uses omics technologies (transcriptomics, proteomics, epigenomics) to analyze how these environmental factors alter gene activity, protein synthesis, and epigenetic modifications (e.g., DNA methylation, epigenetic clock). Key areas of focus include understanding the molecular basis of muscle atrophy, bone loss, immune dysfunction, oxidative stress, and plant adaptation, aiming to identify biomarkers and develop targeted countermeasures for maintaining health and biological function in space.'}, {'id': 9, 'name': 'gene', 'summary': 'This topic centers on the study of specific genes, their regulatory mechanisms, and genomic integrity in the context of spaceflight, microgravity, and radiation. Research employs genomics and transcriptomics to identify genes and genetic pathways involved in physiological adaptations and adverse effects, such as muscle atrophy, bone loss, immune responses, and plant development. It explores how space conditions influence DNA methylation patterns, the epigenetic clock, and the overall genomic architecture. A significant focus is on understanding radiation-induced DNA damage, host-microbe genetic interactions, microbial virulence, and the genetic basis of organismal resilience, providing foundational insights for developing genetic biomarkers and countermeasures for space exploration.'}, {'id': 10, 'name': 'data', 'summary': \"This topic highlights the critical role of data generation, analysis, and sharing in understanding the biological impacts of spaceflight, microgravity, and radiation. It emphasizes the use of open-access omics data systems, particularly NASA's GeneLab and the NASA Open Science Data Repository, for managing and exploring vast datasets from genomics, transcriptomics, proteomics, and metabolomics studies. Research focuses on applying advanced computational methods, including knowledge network embedding and machine learning, to analyze multi-omics data from diverse organisms (humans, mice, plants, microbes). The goal is to identify biomarkers, understand molecular and physiological adaptations (e.g., bone loss, immune dysfunction, radiation response, plant growth), and facilitate the development of countermeasures and scientific breakthroughs for human health and space exploration.\"}, {'id': 11, 'name': 'study', 'summary': 'This topic encompasses a broad range of scientific investigations into the biological and physiological effects of spaceflight, microgravity, and radiation on living organisms. Studies utilize diverse models, including humans (astronauts), mice, Drosophila, plants, and various microbes, to explore health risks like bone loss, muscle atrophy, cardiovascular changes, immune dysfunction, and neurological alterations. Research employs advanced multi-omics approaches (genomics, transcriptomics, proteomics, metabolomics) to characterize molecular adaptations, gene expression changes, and host-microbe interactions. The ultimate goal is to deepen understanding of life in space, identify biomarkers, develop effective countermeasures for long-duration missions, and inform future space exploration and habitation strategies.'}, {'id': 12, 'name': 'changes', 'summary': 'This topic documents the wide array of biological and physiological changes observed in living organisms exposed to spaceflight, microgravity, and radiation. Research identifies alterations at molecular (gene expression, epigenetic modifications, proteomic shifts), cellular (differentiation, proliferation, cell cycle, oxidative stress), tissue (bone density, muscle mass, vascular remodeling), and systemic levels (immune function, cardiovascular health, neurobiology, endocrine responses). Studies investigate these changes in humans, mice, plants, and microbes, focusing on adverse health outcomes (e.g., bone loss, muscle atrophy, immune dysfunction, radiation damage) and adaptive responses. The comprehensive analysis of these changes is crucial for understanding the mechanisms of adaptation to space and developing effective countermeasures for future human exploration.'}, {'id': 13, 'name': 'increased', 'summary': 'This topic focuses on the detection and analysis of various physiological, molecular, and cellular increases observed in organisms exposed to spaceflight, microgravity, and radiation. Key areas include increased virulence and biofilm formation in microbes, elevated oxidative stress, enhanced osteoclastic activity leading to bone loss, and alterations in gene and protein expression. Studies also document increased risks of cancer, cardiovascular changes, immune dysfunction, and neurodegeneration. Research aims to understand the underlying mechanisms of these increases, identify relevant biomarkers, and develop strategies to mitigate adverse effects or harness beneficial adaptations for future space missions and terrestrial applications.'}, {'id': 14, 'name': 'genes', 'summary': 'This topic focuses on identifying and characterizing specific genes and genetic pathways that are affected by or contribute to adaptation to the space environment, including microgravity and radiation. Research utilizes genomic and transcriptomic approaches to study gene expression, regulation (e.g., DNA methylation, epigenetic clock), and genetic integrity across diverse organisms like humans, mice, plants (Arabidopsis), and various microbes. Key areas include understanding the genetic basis of muscle atrophy, bone loss, immune responses, plant development, and microbial virulence or resilience. The goal is to elucidate the molecular underpinnings of physiological changes in space, develop genetic biomarkers, and inform strategies for mitigating health risks and supporting biological systems during long-duration space missions.'}, {'id': 15, 'name': 'response', 'summary': 'This topic investigates the physiological, molecular, and cellular responses of diverse organisms (humans, mice, Drosophila, plants, microbes) to the unique stressors of the space environment, including microgravity, space radiation, and altered mechanical forces. Research focuses on characterizing adaptive and maladaptive biological responses, such as oxidative stress, DNA damage, immune system alterations, bone and muscle remodeling, cardiovascular changes, and neurobiological effects. Studies utilize multi-omics approaches to understand gene expression, epigenetic, proteomic, and metabolic shifts that underpin these responses. A significant area explores host-microbe interactions, microbial virulence, and gravitropic responses in plants. The ultimate goal is to identify key biological pathways, develop biomarkers, and design effective countermeasures to ensure astronaut health and enable long-duration space missions.'}]\n",
      "{'id': 1, 'name': 'space', 'summary': \"This topic encompasses comprehensive research into the biological impacts of the space environment (microgravity, space radiation) on diverse organisms, including humans (astronauts), mice, Drosophila, plants, and various microbial species. Studies extensively utilize 'omics' approaches (genomics, transcriptomics, proteomics, metabolomics, multi-omics) and NASA's GeneLab platform to investigate physiological, molecular, and cellular changes in various systems such as bone, muscle, cardiovascular, immune, nervous, and reproductive systems. Key areas of focus include bone and muscle loss, radiation damage, immune system alterations, host-microbe interactions, plant growth and development, and the potential for pathogenicity of microorganisms in space. The research aims to understand adaptation to space, develop countermeasures for health risks (e.g., cancer, cardiovascular disease, neurodegeneration), and support future human exploration, habitation, and resource utilization (e.g., space biomining, food production) beyond low-Earth orbit. Ethical considerations and the use of ground-based analogs are also explored.\"}\n",
      "{'id': 2, 'name': 'spaceflight', 'summary': \"This topic focuses on the profound biological and physiological effects of spaceflight on living organisms, including humans (astronauts), mice, Drosophila, plants, and microbes. Research extensively uses 'omics' technologies (genomics, transcriptomics, proteomics, metabolomics, multi-omics) and NASA's GeneLab to characterize changes in various organ systems (e.g., cardiovascular, musculoskeletal, immune, nervous, reproductive, liver, kidney) and at the cellular and molecular levels. Key areas of investigation include muscle atrophy, bone loss, radiation-induced damage, oxidative stress, immune dysfunction, neurovascular remodeling, host-microbe interactions, biofilm formation, and plant adaptation. The overarching goal is to understand the mechanisms of adaptation and disease in space, develop effective countermeasures for long-duration missions, and support human health, exploration, and habitation beyond low-Earth orbit. Simulated microgravity and artificial gravity are also explored as research tools and potential mitigations.\"}\n",
      "{'id': 3, 'name': 'mice', 'summary': 'This topic details extensive research using mouse models to investigate the biological effects of spaceflight, microgravity, and space radiation. Studies cover a wide range of physiological systems including bone (pelvic, vertebral, cortical, cancellous), muscle, cardiovascular, immune, nervous (brain, retina, olfactory bulb), and reproductive systems. Key areas explored involve muscle atrophy, bone loss, oxidative stress, radiation-induced DNA damage, immune dysfunction, neurogenesis, aging, and metabolic alterations. Researchers employ advanced omics technologies (RNAseq, microarray, multi-omics, epigenomics) and GeneLab data analysis to understand molecular mechanisms, identify biomarkers, and develop potential countermeasures for maintaining astronaut health during long-duration space missions. The research also utilizes various ground-based analogs like hindlimb unloading and simulated microgravity to complement spaceflight experiments.'}\n",
      "{'id': 4, 'name': 'bone', 'summary': 'This topic investigates the multifaceted impacts of spaceflight, microgravity, space radiation, and mechanical unloading on bone health and physiology. Research focuses on understanding the mechanisms leading to bone loss (e.g., pelvic, vertebral, cortical, cancellous) and associated changes in bone density, architecture, and mechanical properties. Studies explore cellular processes such as osteoclastic activity, osteocytic osteolysis, osteoblastic cell cycle inhibition, and the role of mesenchymal stem cells. The interplay with other systems, including muscle, vasculature, immune system, and endocrine factors (e.g., leptin, estrogen), is also a significant focus. Advanced techniques, including omics analyses and imaging, are used to identify genetic and molecular pathways involved, aiming to develop effective countermeasures and therapeutic strategies for preserving bone health during space missions and for terrestrial applications.'}\n",
      "{'id': 5, 'name': 'microgravity', 'summary': 'This topic delves into the diverse biological and physiological consequences of microgravity and simulated microgravity on a wide array of living systems, from embryonic stem cells and human neural cells to mice, Drosophila, plants, and various microbial communities. Research investigates its effects on bone loss, muscle atrophy, cardiovascular function, immune responses, neurogenesis, and plant development. A significant focus is on molecular-level changes, utilizing omics technologies (transcriptomics, proteomics, metabolomics, epigenomics) to understand gene expression, metabolic pathways, and cellular stress responses (e.g., oxidative stress, mitochondrial function, DNA damage). Studies also examine host-microbe interactions, microbial virulence, and biofilm formation, often in the context of the International Space Station. The ultimate goal is to understand adaptation to altered gravity, develop countermeasures for health risks, and advance stem cell therapies, astrobiology, and sustainable human presence in space.'}\n",
      "{'id': 6, 'name': 'cell', 'summary': 'This topic explores the fundamental biological responses and mechanisms within individual cells across diverse organisms—from human stem and immune cells to plant and microbial cells—when exposed to space environmental factors like microgravity and radiation. Research investigates critical cellular processes such as differentiation, proliferation, gene expression, DNA damage, oxidative stress, and mechanotransduction. It delves into the roles of specific cellular components, including cytoskeletal elements, mechanosensitive channels, and mitochondrial function, aiming to understand how these elements govern cellular adaptation and vulnerability in space. The insights gained are crucial for developing cellular therapies, addressing astronaut health risks, and advancing fundamental cell biology in extreme environments.'}\n",
      "{'id': 7, 'name': 'cells', 'summary': 'This topic examines the collective and individual behaviors of various cell populations, including human stem cells, immune cells (macrophages, NK cells, T-cells), plant cells, and microbial communities, under space-related conditions such as microgravity and radiation. Research focuses on how these environmental stressors impact cell differentiation, proliferation, metabolism, gene expression, and particularly host-pathogen interactions, microbial virulence, and biofilm formation. Studies also investigate the influence on cellular structures, signaling pathways (e.g., calcium signaling), and genetic stability. The findings contribute to understanding immune dysfunction, developing cellular countermeasures for astronaut health, and exploring astrobiological implications and the utilization of biological systems in space.'}\n",
      "{'id': 8, 'name': 'expression', 'summary': 'This topic investigates the dynamic changes in gene, protein, and molecular expression profiles in response to spaceflight, microgravity, and radiation across diverse biological models, including human cells, mice, Drosophila, plants, and microbes. Research extensively uses omics technologies (transcriptomics, proteomics, epigenomics) to analyze how these environmental factors alter gene activity, protein synthesis, and epigenetic modifications (e.g., DNA methylation, epigenetic clock). Key areas of focus include understanding the molecular basis of muscle atrophy, bone loss, immune dysfunction, oxidative stress, and plant adaptation, aiming to identify biomarkers and develop targeted countermeasures for maintaining health and biological function in space.'}\n",
      "{'id': 9, 'name': 'gene', 'summary': 'This topic centers on the study of specific genes, their regulatory mechanisms, and genomic integrity in the context of spaceflight, microgravity, and radiation. Research employs genomics and transcriptomics to identify genes and genetic pathways involved in physiological adaptations and adverse effects, such as muscle atrophy, bone loss, immune responses, and plant development. It explores how space conditions influence DNA methylation patterns, the epigenetic clock, and the overall genomic architecture. A significant focus is on understanding radiation-induced DNA damage, host-microbe genetic interactions, microbial virulence, and the genetic basis of organismal resilience, providing foundational insights for developing genetic biomarkers and countermeasures for space exploration.'}\n",
      "{'id': 10, 'name': 'data', 'summary': \"This topic highlights the critical role of data generation, analysis, and sharing in understanding the biological impacts of spaceflight, microgravity, and radiation. It emphasizes the use of open-access omics data systems, particularly NASA's GeneLab and the NASA Open Science Data Repository, for managing and exploring vast datasets from genomics, transcriptomics, proteomics, and metabolomics studies. Research focuses on applying advanced computational methods, including knowledge network embedding and machine learning, to analyze multi-omics data from diverse organisms (humans, mice, plants, microbes). The goal is to identify biomarkers, understand molecular and physiological adaptations (e.g., bone loss, immune dysfunction, radiation response, plant growth), and facilitate the development of countermeasures and scientific breakthroughs for human health and space exploration.\"}\n",
      "{'id': 11, 'name': 'study', 'summary': 'This topic encompasses a broad range of scientific investigations into the biological and physiological effects of spaceflight, microgravity, and radiation on living organisms. Studies utilize diverse models, including humans (astronauts), mice, Drosophila, plants, and various microbes, to explore health risks like bone loss, muscle atrophy, cardiovascular changes, immune dysfunction, and neurological alterations. Research employs advanced multi-omics approaches (genomics, transcriptomics, proteomics, metabolomics) to characterize molecular adaptations, gene expression changes, and host-microbe interactions. The ultimate goal is to deepen understanding of life in space, identify biomarkers, develop effective countermeasures for long-duration missions, and inform future space exploration and habitation strategies.'}\n",
      "{'id': 12, 'name': 'changes', 'summary': 'This topic documents the wide array of biological and physiological changes observed in living organisms exposed to spaceflight, microgravity, and radiation. Research identifies alterations at molecular (gene expression, epigenetic modifications, proteomic shifts), cellular (differentiation, proliferation, cell cycle, oxidative stress), tissue (bone density, muscle mass, vascular remodeling), and systemic levels (immune function, cardiovascular health, neurobiology, endocrine responses). Studies investigate these changes in humans, mice, plants, and microbes, focusing on adverse health outcomes (e.g., bone loss, muscle atrophy, immune dysfunction, radiation damage) and adaptive responses. The comprehensive analysis of these changes is crucial for understanding the mechanisms of adaptation to space and developing effective countermeasures for future human exploration.'}\n",
      "{'id': 13, 'name': 'increased', 'summary': 'This topic focuses on the detection and analysis of various physiological, molecular, and cellular increases observed in organisms exposed to spaceflight, microgravity, and radiation. Key areas include increased virulence and biofilm formation in microbes, elevated oxidative stress, enhanced osteoclastic activity leading to bone loss, and alterations in gene and protein expression. Studies also document increased risks of cancer, cardiovascular changes, immune dysfunction, and neurodegeneration. Research aims to understand the underlying mechanisms of these increases, identify relevant biomarkers, and develop strategies to mitigate adverse effects or harness beneficial adaptations for future space missions and terrestrial applications.'}\n",
      "{'id': 14, 'name': 'genes', 'summary': 'This topic focuses on identifying and characterizing specific genes and genetic pathways that are affected by or contribute to adaptation to the space environment, including microgravity and radiation. Research utilizes genomic and transcriptomic approaches to study gene expression, regulation (e.g., DNA methylation, epigenetic clock), and genetic integrity across diverse organisms like humans, mice, plants (Arabidopsis), and various microbes. Key areas include understanding the genetic basis of muscle atrophy, bone loss, immune responses, plant development, and microbial virulence or resilience. The goal is to elucidate the molecular underpinnings of physiological changes in space, develop genetic biomarkers, and inform strategies for mitigating health risks and supporting biological systems during long-duration space missions.'}\n",
      "{'id': 15, 'name': 'response', 'summary': 'This topic investigates the physiological, molecular, and cellular responses of diverse organisms (humans, mice, Drosophila, plants, microbes) to the unique stressors of the space environment, including microgravity, space radiation, and altered mechanical forces. Research focuses on characterizing adaptive and maladaptive biological responses, such as oxidative stress, DNA damage, immune system alterations, bone and muscle remodeling, cardiovascular changes, and neurobiological effects. Studies utilize multi-omics approaches to understand gene expression, epigenetic, proteomic, and metabolic shifts that underpin these responses. A significant area explores host-microbe interactions, microbial virulence, and gravitropic responses in plants. The ultimate goal is to identify key biological pathways, develop biomarkers, and design effective countermeasures to ensure astronaut health and enable long-duration space missions.'}\n"
     ]
    }
   ],
   "source": [
    "from postgress_integration.tables import authors_table, articles_table, article_author_table, topics_table\n",
    "await setup_handler.database.connect()\n",
    "rows = await topics_table.get_all()\n",
    "print(rows)\n",
    "for row in rows:\n",
    "    print(row)\n",
    "await setup_handler.database.disconnect()"
   ]
  },
  {
   "cell_type": "code",
   "execution_count": 12,
   "id": "51d9ad3e",
   "metadata": {},
   "outputs": [
    {
     "data": {
      "text/plain": [
       "['Elizabeth A Blaber',\n",
       " 'Natalya Dvorochkin',\n",
       " 'Chialing Lee',\n",
       " 'Joshua S Alwood',\n",
       " 'Rukhsana Yousuf',\n",
       " 'Piero Pianetta',\n",
       " 'Ruth K Globus',\n",
       " 'Brendan P Burns',\n",
       " 'Eduardo A C Almeida']"
      ]
     },
     "execution_count": 12,
     "metadata": {},
     "output_type": "execute_result"
    }
   ],
   "source": [
    "setup_handler.web_dict[\"authors\"][1]"
   ]
  },
  {
   "cell_type": "code",
   "execution_count": 1,
   "id": "e28a894a",
   "metadata": {},
   "outputs": [
    {
     "name": "stderr",
     "output_type": "stream",
     "text": [
      "/usr/local/lib/python3.11/site-packages/tqdm/auto.py:21: TqdmWarning: IProgress not found. Please update jupyter and ipywidgets. See https://ipywidgets.readthedocs.io/en/stable/user_install.html\n",
      "  from .autonotebook import tqdm as notebook_tqdm\n",
      "WARNING: All log messages before absl::InitializeLog() is called are written to STDERR\n",
      "E0000 00:00:1759639732.789204   55036 alts_credentials.cc:93] ALTS creds ignored. Not running on GCP and untrusted ALTS is not enabled.\n"
     ]
    }
   ],
   "source": [
    "import sys\n",
    "from pathlib import Path\n",
    "\n",
    "# adiciona a pasta pai do notebook ao sys.path\n",
    "sys.path.append(str(Path.cwd().parent))\n",
    "from Setup_handler import Setup_handler\n",
    "from postgress_integration.db_interface import database\n",
    "from setup.Setup_worker import Setup_worker\n",
    "from setup.Webscrapper import Webscrapper\n",
    "import pandas as pd\n",
    "\n",
    "setup_handler = Setup_handler(database,\"SB_publication_PMC.csv\")\n",
    "\n",
    "webscrapper = Webscrapper()\n",
    "worker = Setup_worker()\n",
    "df = pd.read_csv(\"SB_publication_PMC.csv\")\n",
    "\n",
    "rows = worker.Get_all_data(df.Link.to_list())"
   ]
  },
  {
   "cell_type": "code",
   "execution_count": 5,
   "id": "3e9ab0c4",
   "metadata": {},
   "outputs": [
    {
     "name": "stdout",
     "output_type": "stream",
     "text": [
      "authors\n",
      "publish_date\n",
      "abstracts\n"
     ]
    }
   ],
   "source": [
    "for row in rows.keys():\n",
    "    print(row)"
   ]
  },
  {
   "cell_type": "code",
   "execution_count": null,
   "id": "bc0cf5fa",
   "metadata": {},
   "outputs": [
    {
     "name": "stderr",
     "output_type": "stream",
     "text": [
      "/usr/local/lib/python3.11/site-packages/tqdm/auto.py:21: TqdmWarning: IProgress not found. Please update jupyter and ipywidgets. See https://ipywidgets.readthedocs.io/en/stable/user_install.html\n",
      "  from .autonotebook import tqdm as notebook_tqdm\n",
      "WARNING: All log messages before absl::InitializeLog() is called are written to STDERR\n",
      "E0000 00:00:1759634778.418206    2748 alts_credentials.cc:93] ALTS creds ignored. Not running on GCP and untrusted ALTS is not enabled.\n"
     ]
    },
    {
     "ename": "ValueError",
     "evalue": "time data '2011 Jan' does not match format '%Y %b %d'",
     "output_type": "error",
     "traceback": [
      "\u001b[31m---------------------------------------------------------------------------\u001b[39m",
      "\u001b[31mValueError\u001b[39m                                Traceback (most recent call last)",
      "\u001b[36mCell\u001b[39m\u001b[36m \u001b[39m\u001b[32mIn[1]\u001b[39m\u001b[32m, line 10\u001b[39m\n\u001b[32m      7\u001b[39m \u001b[38;5;28;01mfrom\u001b[39;00m\u001b[38;5;250m \u001b[39m\u001b[34;01mpostgress_integration\u001b[39;00m\u001b[34;01m.\u001b[39;00m\u001b[34;01mdb_interface\u001b[39;00m\u001b[38;5;250m \u001b[39m\u001b[38;5;28;01mimport\u001b[39;00m database\n\u001b[32m      9\u001b[39m setup_handler = Setup_handler(database,\u001b[33m\"\u001b[39m\u001b[33mSB_publication_PMC.csv\u001b[39m\u001b[33m\"\u001b[39m)\n\u001b[32m---> \u001b[39m\u001b[32m10\u001b[39m \u001b[38;5;28;01mawait\u001b[39;00m setup_handler.Fill_articles_table()\n",
      "\u001b[36mFile \u001b[39m\u001b[32m/server/setup/Setup_handler.py:42\u001b[39m, in \u001b[36mSetup_handler.Fill_articles_table\u001b[39m\u001b[34m(self)\u001b[39m\n\u001b[32m     40\u001b[39m article_name = \u001b[38;5;28mself\u001b[39m.publications_df.Title[i]\n\u001b[32m     41\u001b[39m article_link = \u001b[38;5;28mself\u001b[39m.publications_df.Link[i]\n\u001b[32m---> \u001b[39m\u001b[32m42\u001b[39m article_publish_date = \u001b[38;5;28;43mself\u001b[39;49m\u001b[43m.\u001b[49m\u001b[43mwebscrapper\u001b[49m\u001b[43m.\u001b[49m\u001b[43mGet_publication_date_from_url\u001b[49m\u001b[43m(\u001b[49m\u001b[43marticle_link\u001b[49m\u001b[43m)\u001b[49m\n\u001b[32m     43\u001b[39m article_abstract = \u001b[38;5;28mself\u001b[39m.webscrapper.Get_abstracts_from_url(article_link)\n\u001b[32m     44\u001b[39m article_row = articles_table.Create_article(\n\u001b[32m     45\u001b[39m     name=article_name,\n\u001b[32m     46\u001b[39m     summary=article_abstract,\n\u001b[32m     47\u001b[39m     link=article_link,\n\u001b[32m     48\u001b[39m     publish_date=article_publish_date\n\u001b[32m     49\u001b[39m )\n",
      "\u001b[36mFile \u001b[39m\u001b[32m/server/setup/Webscrapper.py:18\u001b[39m, in \u001b[36mWebscrapper.Get_publication_date_from_url\u001b[39m\u001b[34m(self, url)\u001b[39m\n\u001b[32m     16\u001b[39m \u001b[38;5;28;01mif\u001b[39;00m meta_date \u001b[38;5;129;01mand\u001b[39;00m \u001b[33m'\u001b[39m\u001b[33mcontent\u001b[39m\u001b[33m'\u001b[39m \u001b[38;5;129;01min\u001b[39;00m meta_date.attrs:\n\u001b[32m     17\u001b[39m     date_str = meta_date[\u001b[33m'\u001b[39m\u001b[33mcontent\u001b[39m\u001b[33m'\u001b[39m]\n\u001b[32m---> \u001b[39m\u001b[32m18\u001b[39m     dt = \u001b[43mdatetime\u001b[49m\u001b[43m.\u001b[49m\u001b[43mstrptime\u001b[49m\u001b[43m(\u001b[49m\u001b[43mdate_str\u001b[49m\u001b[43m,\u001b[49m\u001b[43m \u001b[49m\u001b[33;43m\"\u001b[39;49m\u001b[33;43m%\u001b[39;49m\u001b[33;43mY \u001b[39;49m\u001b[33;43m%\u001b[39;49m\u001b[33;43mb \u001b[39;49m\u001b[38;5;132;43;01m%d\u001b[39;49;00m\u001b[33;43m\"\u001b[39;49m\u001b[43m)\u001b[49m.date()\n\u001b[32m     19\u001b[39m     \u001b[38;5;28;01mreturn\u001b[39;00m dt\n\u001b[32m     20\u001b[39m \u001b[38;5;28;01melse\u001b[39;00m:\n",
      "\u001b[36mFile \u001b[39m\u001b[32m/usr/local/lib/python3.11/_strptime.py:567\u001b[39m, in \u001b[36m_strptime_datetime\u001b[39m\u001b[34m(cls, data_string, format)\u001b[39m\n\u001b[32m    564\u001b[39m \u001b[38;5;28;01mdef\u001b[39;00m\u001b[38;5;250m \u001b[39m\u001b[34m_strptime_datetime\u001b[39m(\u001b[38;5;28mcls\u001b[39m, data_string, \u001b[38;5;28mformat\u001b[39m=\u001b[33m\"\u001b[39m\u001b[38;5;132;01m%a\u001b[39;00m\u001b[33m \u001b[39m\u001b[33m%\u001b[39m\u001b[33mb \u001b[39m\u001b[38;5;132;01m%d\u001b[39;00m\u001b[33m \u001b[39m\u001b[33m%\u001b[39m\u001b[33mH:\u001b[39m\u001b[33m%\u001b[39m\u001b[33mM:\u001b[39m\u001b[33m%\u001b[39m\u001b[33mS \u001b[39m\u001b[33m%\u001b[39m\u001b[33mY\u001b[39m\u001b[33m\"\u001b[39m):\n\u001b[32m    565\u001b[39m \u001b[38;5;250m    \u001b[39m\u001b[33;03m\"\"\"Return a class cls instance based on the input string and the\u001b[39;00m\n\u001b[32m    566\u001b[39m \u001b[33;03m    format string.\"\"\"\u001b[39;00m\n\u001b[32m--> \u001b[39m\u001b[32m567\u001b[39m     tt, fraction, gmtoff_fraction = \u001b[43m_strptime\u001b[49m\u001b[43m(\u001b[49m\u001b[43mdata_string\u001b[49m\u001b[43m,\u001b[49m\u001b[43m \u001b[49m\u001b[38;5;28;43mformat\u001b[39;49m\u001b[43m)\u001b[49m\n\u001b[32m    568\u001b[39m     tzname, gmtoff = tt[-\u001b[32m2\u001b[39m:]\n\u001b[32m    569\u001b[39m     args = tt[:\u001b[32m6\u001b[39m] + (fraction,)\n",
      "\u001b[36mFile \u001b[39m\u001b[32m/usr/local/lib/python3.11/_strptime.py:349\u001b[39m, in \u001b[36m_strptime\u001b[39m\u001b[34m(data_string, format)\u001b[39m\n\u001b[32m    347\u001b[39m found = format_regex.match(data_string)\n\u001b[32m    348\u001b[39m \u001b[38;5;28;01mif\u001b[39;00m \u001b[38;5;129;01mnot\u001b[39;00m found:\n\u001b[32m--> \u001b[39m\u001b[32m349\u001b[39m     \u001b[38;5;28;01mraise\u001b[39;00m \u001b[38;5;167;01mValueError\u001b[39;00m(\u001b[33m\"\u001b[39m\u001b[33mtime data \u001b[39m\u001b[38;5;132;01m%r\u001b[39;00m\u001b[33m does not match format \u001b[39m\u001b[38;5;132;01m%r\u001b[39;00m\u001b[33m\"\u001b[39m %\n\u001b[32m    350\u001b[39m                      (data_string, \u001b[38;5;28mformat\u001b[39m))\n\u001b[32m    351\u001b[39m \u001b[38;5;28;01mif\u001b[39;00m \u001b[38;5;28mlen\u001b[39m(data_string) != found.end():\n\u001b[32m    352\u001b[39m     \u001b[38;5;28;01mraise\u001b[39;00m \u001b[38;5;167;01mValueError\u001b[39;00m(\u001b[33m\"\u001b[39m\u001b[33munconverted data remains: \u001b[39m\u001b[38;5;132;01m%s\u001b[39;00m\u001b[33m\"\u001b[39m %\n\u001b[32m    353\u001b[39m                       data_string[found.end():])\n",
      "\u001b[31mValueError\u001b[39m: time data '2011 Jan' does not match format '%Y %b %d'"
     ]
    }
   ],
   "source": [
    "import sys\n",
    "from pathlib import Path\n",
    "\n",
    "# adiciona a pasta pai do notebook ao sys.path\n",
    "sys.path.append(str(Path.cwd().parent))\n",
    "from Setup_handler import Setup_handler\n",
    "from postgress_integration.db_interface import database\n",
    "\n",
    "setup_handler = Setup_handler(database,\"SB_publication_PMC.csv\")\n",
    "await setup_handler.Fill_articles_table()"
   ]
  },
  {
   "cell_type": "code",
   "execution_count": 5,
   "id": "b74fedae",
   "metadata": {},
   "outputs": [],
   "source": [
    "\n",
    "await setup_handler.database.connect()\n",
    "await article_author_table.clear_table()\n",
    "await setup_handler.database.disconnect()"
   ]
  },
  {
   "cell_type": "code",
   "execution_count": null,
   "id": "0d019b4c",
   "metadata": {},
   "outputs": [
    {
     "name": "stderr",
     "output_type": "stream",
     "text": [
      "/usr/local/lib/python3.11/site-packages/tqdm/auto.py:21: TqdmWarning: IProgress not found. Please update jupyter and ipywidgets. See https://ipywidgets.readthedocs.io/en/stable/user_install.html\n",
      "  from .autonotebook import tqdm as notebook_tqdm\n",
      "WARNING: All log messages before absl::InitializeLog() is called are written to STDERR\n",
      "E0000 00:00:1759632345.524129  210901 alts_credentials.cc:93] ALTS creds ignored. Not running on GCP and untrusted ALTS is not enabled.\n"
     ]
    },
    {
     "name": "stdout",
     "output_type": "stream",
     "text": [
      "8:One potentially important bone quality characteristic is the response of bone to cyclic (repetitive) mechanical loading. In small animals, such as in rats and mice, cyclic loading experiments are particularly challenging to perform in a precise manner due to the small size of the bones and difficult-to-eliminate machine compliance. Addressing this issue, we developed a precise method for ex vivo cyclic compressive loading of isolated mouse vertebral bodies. The method has three key characteristics: 3D-printed support jigs for machining plano-parallel surfaces of the tiny vertebrae; pivotable loading platens to ensure uniform contact and loading of specimen surfaces; and specimen-specific micro-CT-based finite element analysis to measure stiffness to prescribe force levels that produce the same specified level of strain for all test specimens. To demonstrate utility, we measured fatigue life for three groups (n = 5–6 per group) of L5 vertebrae of C57BL/6J male mice, comparing our new method against two methods commonly used in the literature. We found reduced scatter of the mechanical behavior for this new method compared to the literature methods. In particular, for a controlled level of strain, the standard deviation of the measured fatigue life was up to 5-fold lower for the new method (F-ratio = 4.9; p < 0.01). The improved precision for this new method for biomechanical testing of small-animal vertebrae may help elucidate aspects of bone quality.\n",
      "2:Microgravity, defined by minimal gravitational forces, represents a unique environment that profoundly influences biological systems, including human cells. This review examines the effects of microgravity on biological processes and their implications for human health. Microgravity significantly impacts the immune system by disrupting key mechanisms, such as T cell activation, cytokine production, and macrophage differentiation, leading to increased susceptibility to infections. In cancer biology, it promotes the formation of spheroids in cancer stem cells and thyroid cancer cells, which closely mimic in vivo tumor dynamics, providing novel insights for oncology research. Additionally, microgravity enhances tissue regeneration by modulating critical pathways, including Hippo and PI3K-Akt, thereby improving stem cell differentiation into hematopoietic and cardiomyocyte lineages. At the organ level, microgravity induces notable changes in hepatic metabolism, endothelial function, and bone mechanotransduction, contributing to lipid dysregulation, vascular remodeling, and accelerated bone loss. Notably, cardiomyocytes derived from human pluripotent stem cells and cultured under microgravity exhibit enhanced mitochondrial biogenesis, improved calcium handling, and advanced structural maturation, including increased sarcomere length and nuclear eccentricity. These advancements enable the development of functional cardiomyocytes, presenting promising therapeutic opportunities for treating cardiac diseases, such as myocardial infarctions. These findings underscore the dual implications of microgravity for space medicine and terrestrial health. They highlight its potential to drive advances in regenerative therapies, oncology, and immunological interventions. Continued research into the biological effects of microgravity is essential for protecting astronaut health during prolonged space missions and fostering biomedical innovations with transformative applications on Earth.\n",
      "6:Space radiation may pose a risk to skeletal health during subsequent aging. Irradiation acutely stimulates bone remodeling in mice, although the long-term influence of space radiation on bone-forming potential (osteoblastogenesis) and possible adaptive mechanisms are not well understood. We hypothesized that ionizing radiation impairs osteoblastogenesis in an ion-type specific manner, with low doses capable of modulating expression of redox-related genes. 16-weeks old, male, C57BL6/J mice were exposed to low linear-energy-transfer (LET) protons (150 MeV/n) or high-LET 56Fe ions (600 MeV/n) using either low (5 or 10 cGy) or high (50 or 200 cGy) doses at NASA’s Space Radiation Lab. Five weeks or one year after irradiation, tissues were harvested and analyzed by microcomputed tomography for cancellous microarchitecture and cortical geometry. Marrow-derived, adherent cells were grown under osteoblastogenic culture conditions. Cell lysates were analyzed by RT-PCR during the proliferative or mineralizing phase of growth, and differentiation was analyzed by imaging mineralized nodules. As expected, a high dose (200 cGy), but not lower doses, of either 56Fe or protons caused a loss of cancellous bone volume/total volume. Marrow cells produced mineralized nodules ex vivo regardless of radiation type or dose; 56Fe (200 cGy) inhibited osteoblastogenesis by more than 90% (5 weeks and 1 year post-IR). After 5 weeks, irradiation (protons or 56Fe) caused few changes in gene expression levels during osteoblastogenesis, although a high dose 56Fe (200 cGy) increased Catalase and Gadd45. The addition of exogenous superoxide dismutase (SOD) protected marrow-derived osteoprogenitors from the damaging effects of exposure to low-LET (137Cs γ) when irradiated in vitro, but had limited protective effects on high-LET 56Fe-exposed cells. In sum, either protons or 56Fe at a relatively high dose (200 cGy) caused persistent bone loss, whereas only high-LET 56Fe increased redox-related gene expression, albeit to a limited extent, and inhibited osteoblastogenesis. Doses below 50 cGy did not elicit widespread responses in any parameter measured. We conclude that high-LET irradiation at 200 cGy impaired osteoblastogenesis and regulated steady-state gene expression of select redox-related genes during osteoblastogenesis, which may contribute to persistent bone loss.\n",
      "7:NASA’s Space Biology and Human Research Program entities have recently spearheaded communications both internally and externally to coordinate the agency’s translational research efforts. In this paper, we strongly advocate for translational research at NASA, provide recent examples of NASA sponsored early-stage translational research, and discuss options for a path forward. Our overall objective is to help in stimulating a collaborative research across multiple disciplines and entities that, working together, will more effectively and more rapidly achieve NASA’s goals for human spaceflight.\n",
      "9:Bone can become brittle when exposed to ionizing radiation across a wide range of clinically relevant doses that span from radiotherapy (accumulative 50 Gy) to sterilization (~35,000 Gy). While irradiation-induced embrittlement has been attributed to changes in the collagen molecular structure, the relative role of collagen fragmentation versus non-enzymatic collagen crosslinking remains unclear. To better understand the effects of radiation on the bone material without cellular activity, we conducted an ex vivo x-ray radiation experiment on excised mouse lumbar vertebrae. Spinal tissue from twenty-week old, female, C57BL/6J mice were randomly assigned to a single x-ray radiation dose of either 0 (control), 50, 1,000, 17,000, or 35,000 Gy. Measurements were made for collagen fragmentation, non-enzymatic collagen crosslinking, and both monotonic and cyclic-loading compressive mechanical properties. We found that the group differences for mechanical properties were more consistent with those for collagen fragmentation than for non-enzymatic collagen crosslinking. Monotonic strength at 17,000 and 35,000 Gy was lower than that of the control by 50% and 73% respectively, (p < 0.001) but at 50 and 1,000 Gy was not different than the control. Consistent with those trends, collagen fragmentation only occurred at 17,000 and 35,000 Gy. By contrast, non-enzymatic collagen crosslinking was greater than control for all radiation doses (p < 0.001). All results were consistent both for monotonic and cyclic loading conditions. We conclude that the reductions in bone compressive monotonic strength and fatigue life due to ex vivo ionizing radiation are more likely caused by fragmentation of the collagen backbone than any increases in non-enzymatic collagen crosslinks.\n",
      "5:Spaceflight causes cardiovascular changes due to microgravity-induced redistribution of body fluids and musculoskeletal unloading. Cardiac deconditioning and atrophy on Earth are associated with altered Trp53 and oxidative stress-related pathways, but the effects of spaceflight on cardiac changes at the molecular level are less understood. We tested the hypothesis that spaceflight alters the expression of key genes related to stress response pathways, which may contribute to cardiovascular deconditioning during extended spaceflight. Mice were exposed to spaceflight for 15 days or maintained on Earth (ground control). Ventricle tissue was harvested starting ~3 h post-landing. We measured expression of select genes implicated in oxidative stress pathways and Trp53 signaling by quantitative PCR. Cardiac expression levels of 37 of 168 genes tested were altered after spaceflight. Spaceflight downregulated transcription factor, Nfe2l2 (Nrf2), upregulated Nox1 and downregulated Ptgs2, suggesting a persistent increase in oxidative stress-related target genes. Spaceflight also substantially upregulated Cdkn1a (p21) and cell cycle/apoptosis-related gene Myc, and downregulated the inflammatory response gene Tnf. There were no changes in apoptosis-related genes such as Trp53. Spaceflight altered the expression of genes regulating redox balance, cell cycle and senescence in cardiac tissue of mice. Thus, spaceflight may contribute to cardiac dysfunction due to oxidative stress.\n",
      "3:Therapeutic effects of adult stem-cell transplantations are limited by poor cell-retention in target organs, and a reduced potential for optimal cell differentiation compared to embryonic stem cells. However, contemporary studies have indicated heterogeneity within adult stem-cell pools, and a novel culturing technique may address these limitations by selecting those for cell proliferation which are highly functional. Here, we report the preservation of stemness in human adipose-derived stem cells (hASCs) by using microgravity conditions combined with microspheres in a stirred suspension. The cells were bound to microspheres (100−300 μm) and cultured using a wave-stirring shaker. One-week cultures using polystyrene and collagen microspheres increased the proportions of SSEA-3(+) hASCs 4.4- and 4.3-fold (2.7- and 2.9-fold increases in their numbers), respectively, compared to normal culture conditions. These cultured hASCs expressed higher levels of pluripotent markers (OCT4, SOX2, NANOG, MYC, and KLF), and had improved abilities for proliferation, colony formation, network formation, and multiple-mesenchymal differentiation. We believe that this novel culturing method may further enhance regenerative therapies using hASCs.\n",
      "4:The International Space Station (ISS) National Laboratory is dedicated to studying the effects of space on life and physical systems, and to developing new science and technologies for space exploration. A key aspect of achieving these goals is to operate the ISS National Lab more like an Earth-based laboratory, conducting complex end-to-end experimentation, not limited to simple microgravity exposure. Towards that end NASA developed a novel suite of molecular biology laboratory tools, reagents, and methods, named WetLab-2, uniquely designed to operate in microgravity, and to process biological samples for real-time gene expression analysis on-orbit. This includes a novel fluidic RNA Sample Preparation Module and fluid transfer devices, all-in-one lyophilized PCR assays, centrifuge, and a real-time PCR thermal cycler. Here we describe the results from the WetLab-2 validation experiments conducted in microgravity during ISS increment 47/SPX-8. Specifically, quantitative PCR was performed on a concentration series of DNA calibration standards, and Reverse Transcriptase-quantitative PCR was conducted on RNA extracted and purified on-orbit from frozen Escherichia coli and mouse liver tissue. Cycle threshold (Ct) values and PCR efficiencies obtained on-orbit from DNA standards were similar to Earth (1 g) controls. Also, on-orbit multiplex analysis of gene expression from bacterial cells and mammalian tissue RNA samples was successfully conducted in about 3 h, with data transmitted within 2 h of experiment completion. Thermal cycling in microgravity resulted in the trapping of gas bubbles inside septa cap assay tubes, causing small but measurable increases in Ct curve noise and variability. Bubble formation was successfully suppressed in a rapid follow-up on-orbit experiment using standard caps to pressurize PCR tubes and reduce gas release during heating cycles. The WetLab-2 facility now provides a novel operational on-orbit research capability for molecular biology and demonstrates the feasibility of more complex wet bench experiments in the ISS National Lab environment.\n",
      "1:Bone is a dynamically remodeled tissue that requires gravity-mediated mechanical stimulation for maintenance of mineral content and structure. Homeostasis in bone occurs through a balance in the activities and signaling of osteoclasts, osteoblasts, and osteocytes, as well as proliferation and differentiation of their stem cell progenitors. Microgravity and unloading are known to cause osteoclast-mediated bone resorption; however, we hypothesize that osteocytic osteolysis, and cell cycle arrest during osteogenesis may also contribute to bone loss in space. To test this possibility, we exposed 16-week-old female C57BL/6J mice (n = 8) to microgravity for 15-days on the STS-131 space shuttle mission. Analysis of the pelvis by µCT shows decreases in bone volume fraction (BV/TV) of 6.29%, and bone thickness of 11.91%. TRAP-positive osteoclast-covered trabecular bone surfaces also increased in microgravity by 170% (p = 0.004), indicating osteoclastic bone degeneration. High-resolution X-ray nanoCT studies revealed signs of lacunar osteolysis, including increases in cross-sectional area (+17%, p = 0.022), perimeter (+14%, p = 0.008), and canalicular diameter (+6%, p = 0.037). Expression of matrix metalloproteinases (MMP) 1, 3, and 10 in bone, as measured by RT-qPCR, was also up-regulated in microgravity (+12.94, +2.98 and +16.85 fold respectively, p<0.01), with MMP10 localized to osteocytes, and consistent with induction of osteocytic osteolysis. Furthermore, expression of CDKN1a/p21 in bone increased 3.31 fold (p<0.01), and was localized to osteoblasts, possibly inhibiting the cell cycle during tissue regeneration as well as conferring apoptosis resistance to these cells. Finally the apoptosis inducer Trp53 was down-regulated by −1.54 fold (p<0.01), possibly associated with the quiescent survival-promoting function of CDKN1a/p21. In conclusion, our findings identify the pelvic and femoral region of the mouse skeleton as an active site of rapid bone loss in microgravity, and indicate that this loss is not limited to osteoclastic degradation. Therefore, this study offers new evidence for microgravity-induced osteocytic osteolysis, and CDKN1a/p21-mediated osteogenic cell cycle arrest.\n",
      "0:After a 16-year hiatus, Russia has resumed its program of biomedical research in space, with the successful 30-day flight of the Bion-M 1 biosatellite (April 19–May 19, 2013). The principal species for biomedical research in this project was the mouse. This paper presents an overview of the scientific goals, the experimental design and the mouse training/selection program. The aim of mice experiments in the Bion-M 1 project was to elucidate cellular and molecular mechanisms, underlying the adaptation of key physiological systems to long-term exposure in microgravity. The studies with mice combined in vivo measurements, both in flight and post-flight (including continuous blood pressure measurement), with extensive in vitro studies carried out shortly after return of the mice and in the end of recovery study. Male C57/BL6 mice group housed in space habitats were flown aboard the Bion-M 1 biosatellite, or remained on ground in the control experiment that replicated environmental and housing conditions in the spacecraft. Vivarium control groups were used to account for housing effects and possible seasonal differences. Mice training included the co-adaptation in housing groups and mice adaptation to paste food diet. The measures taken to co-adapt aggressive male mice in housing groups and the peculiarities of “space” paste food are described. The training program for mice designated for in vivo studies was broader and included behavioral/functional test battery and continuous behavioral measurements in the home-cage. The results of the preliminary tests were used for the selection of homogenous groups. After the flight, mice were in good condition for biomedical studies and displayed signs of pronounced disadaptation to Earth's gravity. The outcomes of the training program for the mice welfare are discussed. We conclude that our training program was effective and that male mice can be successfully employed in space biomedical research.\n",
      "11:None\n",
      "10:None\n",
      "13:SNAREs play an important role in the process of membrane trafficking. In the present research, we investigated subcellular localization of an uncharacterized Arabidopsis thaliana protein reported to interact with a trans-Golgi network-localized Qa-SNARE, SYNTAXIN OF PLANTS 43. Based on the similarity of its amino acid sequence to metazoan fucosyltransferases, we have named this novel protein AtGTLP (Arabidopsis thaliana\n",
      "GlycosylTransferase-Like Protein) and predicted that it should be a member of yet uncharacterized family of Arabidopsis fucosyltransferases, as it shows no significant sequence similarity to fucosyltransferases previously identified in Arabidopsis. AtGTLP is a membrane-anchored protein, which exhibits a type II-like topology, with a single transmembrane helix and a globular domain in the C-terminal part of its amino acid sequence. Colocalization data we collected suggest that AtGTLP should localize mainly to Golgi apparatus, especially to certain zones of trans-Golgi. As single atgtlp−/− mutants showed no obvious difference in phenotype (primary root length and fresh mass), AtGTLP and proteins related to AtGTLP with high similarity in amino acid sequences may have redundant functions.\n",
      "19:None\n",
      "12:The Arabidopsis (Arabidopsis thaliana) soluble N-ethylmaleimide-sensitive factor attachment protein receptor SYP41 is involved in vesicle fusion at the trans-Golgi network (TGN) and interacts with AtVPS45, SYP61, and VTI12. These proteins are involved in diverse cellular processes, including vacuole biogenesis and stress tolerance. A previously uncharacterized protein, named TNO1 (for TGN-localized SYP41-interacting protein), was identified by coimmunoprecipitation as a SYP41-interacting protein. TNO1 was found to localize to the TGN by immunofluorescence microscopy. A tno1 mutant showed increased sensitivity to high concentrations of NaCl, KCl, and LiCl and also to mannitol-induced osmotic stress. Localization of SYP61, which is involved in the salt stress response, was disrupted in the tno1 mutant. Vacuolar proteins were partially secreted to the apoplast in the tno1 mutant, suggesting that TNO1 is required for efficient protein trafficking to the vacuole. The tno1 mutant had delayed formation of the brefeldin A (BFA) compartment in cotyledons upon application of BFA, suggesting less efficient membrane fusion processes in the mutant. Unlike most TGN proteins, TNO1 does not relocate to the BFA compartment upon BFA treatment. These data demonstrate that TNO1 is involved in vacuolar trafficking and salt tolerance, potentially via roles in vesicle fusion and in maintaining TGN structure or identity.\n",
      "16:None\n",
      "15:The trans-Golgi network (TGN) is a dynamic organelle that functions as a relay station for receiving endocytosed cargo, directing secretory cargo, and trafficking to the vacuole. TGN-localized SYP41-interacting protein (TNO1) is a large, TGN-localized, coiled-coil protein that associates with the membrane fusion protein SYP41, a target SNARE, and is required for efficient protein trafficking to the vacuole. Here, we show that a tno1 mutant has auxin transport-related defects. Mutant roots have delayed lateral root emergence, decreased gravitropic bending of plant organs and increased sensitivity to the auxin analog 2,4-dichlorophenoxyacetic acid and the natural auxin 3-indoleacetic acid. Auxin asymmetry at the tips of elongating stage II lateral roots was reduced in the tno1 mutant, suggesting a role for TNO1 in cellular auxin transport during lateral root emergence. During gravistimulation, tno1 roots exhibited delayed auxin transport from the columella to the basal epidermal cells. Endocytosis to the TGN was unaffected in the mutant, indicating that bulk endocytic defects are not responsible for the observed phenotypes. Together these studies demonstrate a role for TNO1 in mediating auxin responses during root development and gravistimulation, potentially through trafficking of auxin transport proteins.\n",
      "14:None\n",
      "17:Maintaining the proximity of centrosomes to nuclei is important in several cellular contexts, and LINC complexes formed by SUN and KASH proteins are crucial in this process. Here, we characterize the presumed Drosophila ortholog of the mammalian SUN protein, sperm-associated antigen 4 (Spag4, previously named Giacomo), and demonstrate that Spag4 is required for centriole and nuclear attachment during spermatogenesis. Production of spag4 mRNA is limited to the testis, and Spag4 protein shows a dynamic pattern of association with the germline nuclei, including a concentration of protein at the site of attachment of the single spermatid centriole. In the absence of Spag4, nuclei and centrioles or basal bodies (BBs) dissociate from each other after meiosis. This role of Spag4 in centriolar attachment does not involve either of the two KASH proteins of the Drosophila genome (Klarsicht and MSP-300), but does require the coiled-coil protein Yuri Gagarin. Yuri shows an identical pattern of localization at the nuclear surface to Spag4 during spermatogenesis, and epistasis studies show that the activities of Yuri and dynein-dynactin are downstream of spag4 in this centriole attachment pathway. The later defects in spermatogenesis seen for yuri and spag4 mutants are similar, suggesting they could be secondary to initial disruption of events at the nuclear surface.\n",
      "18:Space travel presents unlimited opportunities for exploration and discovery, but requires better understanding of the biological consequences of long-term exposure to spaceflight. Immune function in particular is relevant for space travel. Human immune responses are weakened in space, with increased vulnerability to opportunistic infections and immune-related conditions. In addition, microorganisms can become more virulent in space, causing further challenges to health. To understand these issues better and to contribute to design of effective countermeasures, we used the Drosophila model of innate immunity to study immune responses in both hypergravity and spaceflight. Focusing on infections mediated through the conserved Toll and Imd signaling pathways, we found that hypergravity improves resistance to Toll-mediated fungal infections except in a known gravitaxis mutant of the yuri gagarin gene. These results led to the first spaceflight project on Drosophila immunity, in which flies that developed to adulthood in microgravity were assessed for immune responses by transcription profiling on return to Earth. Spaceflight alone altered transcription, producing activation of the heat shock stress system. Space flies subsequently infected by fungus failed to activate the Toll pathway. In contrast, bacterial infection produced normal activation of the Imd pathway. We speculate on possible linkage between functional Toll signaling and the heat shock chaperone system. Our major findings are that hypergravity and spaceflight have opposing effects, and that spaceflight produces stress-related transcriptional responses and results in a specific inability to mount a Toll-mediated infection response.\n",
      "21:Omics data sharing is crucial to the biological research community, and the last decade or two has seen a huge rise in collaborative analysis systems, databases, and knowledge bases for omics and other systems biology data. We assessed the “FAIRness” of NASA’s GeneLab Data Systems (GLDS) along with four similar kinds of systems in the research omics data domain, using 14 FAIRness metrics. The range of overall FAIRness scores was 6-12 (out of 14), average 10.1, and standard deviation 2.4. The range of Pass ratings for the metrics was 29-79%, Partial Pass 0-21%, and Fail 7-50%. The systems we evaluated performed the best in the areas of data findability and accessibility, and worst in the area of data interoperability. Reusability of metadata, in particular, was frequently not well supported. We relate our experiences implementing semantic integration of omics data from some of the assessed systems for federated querying and retrieval functions, given their shortcomings in data interoperability. Finally, we propose two new principles that Big Data system developers, in particular, should consider for maximizing data accessibility.\n",
      "20:Space radiation has recently been considered a risk factor for astronauts’ cardiac health. As an example, for the case of how to query and identify datasets within NASA’s GeneLab database and demonstrate the database utility, we used an unbiased systems biology method for identifying key genes/drivers for the contribution of space radiation on the cardiovascular system. This knowledge can contribute to designing appropriate experiments targeting these specific pathways. Microarray data from cardiomyocytes of male C57BL/6 mice followed-up for 28 days after exposure to 900 mGy of 1 GeV proton or 150 mGy of 1 GeV/n 56Fe were compared to human endothelial cells (HUVECs) cultured for 7 days on the International Space Station (ISS). We observed common molecular pathways between simulated space radiation and HUVECs flown on the ISS. The analysis suggests FYN is the central driver/hub for the cardiovascular response to space radiation: the known oxidative stress induced immediately following radiation would only be transient and would upregulate FYN, which in turn would reduce reactive oxygen species (ROS) levels, protecting the cardiovascular system. The transcriptomic signature of exposure to protons was also much closer to the spaceflight signature than 56Fe’s signature. To our knowledge, this is the first time GeneLab datasets were utilized to provide potential biological indications that the majority of ions on the ISS are protons, clearly illustrating the power of omics analysis. More generally, this work also demonstrates how to combine animal radiation studies done on the ground and spaceflight studies to evaluate human risk in space.\n",
      "22:Background: Ionizing radiation from galactic cosmic rays (GCR) is one of the major risk factors that will impact the health of astronauts on extended missions outside the protective effects of the Earth’s magnetic field. The NASA GeneLab project has detailed information on radiation exposure using animal models with curated dosimetry information for spaceflight experiments. Methods: We analyzed multiple GeneLab omics datasets associated with both ground-based and spaceflight radiation studies that included in vivo and in vitro approaches. A range of ions from protons to iron particles with doses from 0.1 to 1.0 Gy for ground studies, as well as samples flown in low Earth orbit (LEO) with total doses of 1.0 mGy to 30 mGy, were utilized. Results: From this analysis, we were able to identify distinct biological signatures associating specific ions with specific biological responses due to radiation exposure in space. For example, we discovered changes in mitochondrial function, ribosomal assembly, and immune pathways as a function of dose. Conclusions: We provided a summary of how the GeneLab’s rich database of omics experiments with animal models can be used to generate novel hypotheses to better understand human health risks from GCR exposures.\n",
      "24:None\n",
      "26:Human expansion in space is hampered by the physiological risks of spaceflight. The muscle and the liver are among the most affected tissues during spaceflight and their relationships in response to space exposure have never been studied. We compared the transcriptome response of liver and quadriceps from mice on NASA RR1 mission, after 37 days of exposure to spaceflight using GSEA, ORA, and sparse partial least square-differential analysis. We found that lipid metabolism is the most affected biological process between the two organs. A specific gene cluster expression pattern in the liver strongly correlated with glucose sparing and an energy-saving response affecting high energy demand process gene expression such as DNA repair, autophagy, and translation in the muscle. Our results show that impaired lipid metabolism gene expression in the liver and muscle atrophy gene expression are two paired events during spaceflight, for which dietary changes represent a possible countermeasure.\n",
      "23:We have identified and validated a spaceflight-associated microRNA (miRNA) signature that is shared by rodents and humans in response to simulated, short-duration and long-duration spaceflight. Previous studies have identified miRNAs that regulate rodent responses to spaceflight in low-Earth orbit, and we have confirmed the expression of these proposed spaceflight-associated miRNAs in rodents reacting to simulated spaceflight conditions. Moreover, astronaut samples from the NASA Twins Study confirmed these expression signatures in miRNA sequencing, single-cell RNA sequencing (scRNA-seq), and single-cell assay for transposase accessible chromatin (scATAC-seq) data. Additionally, a subset of these miRNAs (miR-125, miR-16, and let-7a) was found to regulate vascular damage caused by simulated deep space radiation. To demonstrate the physiological relevance of key spaceflight-associated miRNAs, we utilized antagomirs to inhibit their expression and successfully rescue simulated deep-space-radiation-mediated damage in human 3D vascular constructs.\n",
      "27:Despite surging interest in space travel in recent decades, the impacts of prolonged, elevated exposure to galactic cosmic radiation (GCR) on human health remain poorly understood. This form of ionizing radiation causes significant changes to biological systems including damage to DNA structure by altering epigenetic phenotype with emphasis on DNA methylation. Building on previous work by Kennedy et al. (Sci Rep 8(1): 6709. 10.1038/S41598-018-24755-8), we evaluated spatial DNA methylation patterns triggered by high-LET (56Fe, 28Si) and low-LET (X-ray) radiation and the influence of chromosome positioning and epigenetic architecture in distinct radial layers of cell nucleus. Next, we validated our results using gene expression data of mice irradiated with simulated GCR and JAXA astronauts. We showed that primarily 56Fe induces a persistent DNA methylation increase whereas 28Si and X-ray induce a decrease DNA methylation which is not persistent with time. Moreover, we highlighted the role of nuclear chromatin architecture in cell response to external radiation. In summary, our study provides novel insights towards epigenetic and transcriptomic response as well as chromatin multidimensional structure influence on galactic cosmic radiation damage.\n",
      "28:COVID-19, the disease caused by SARS-CoV-2, has caused significant morbidity and mortality worldwide. The betacoronavirus continues to evolve with global health implications as we race to learn more to curb its transmission, evolution, and sequelae. The focus of this review, the second of a three-part series, is on the biological effects of the SARS-CoV-2 virus on post-acute disease in the context of tissue and organ adaptations and damage. We highlight the current knowledge and describe how virological, animal, and clinical studies have shed light on the mechanisms driving the varied clinical diagnoses and observations of COVID-19 patients. Moreover, we describe how investigations into SARS-CoV-2 effects have informed the understanding of viral pathogenesis and provide innovative pathways for future research on the mechanisms of viral diseases.\n",
      "25:Outer space is an extremely hostile environment for human life, with ionizing radiation from galactic cosmic rays and microgravity posing the most significant hazards to the health of astronauts. Spaceflight has also been shown to have an impact on established cancer hallmarks, possibly increasing carcinogenic risk. Terrestrially, women have a higher incidence of radiation-induced cancers, largely driven by lung, thyroid, breast, and ovarian cancers, and therefore, historically, they have been permitted to spend significantly less time in space than men. In the present review, we focus on the effects of microgravity and radiation on the female reproductive system, particularly gynecological cancer. The aim is to provide a summary of the research that has been carried out related to the risk of gynecological cancer, highlighting what further studies are needed to pave the way for safer exploration class missions, as well as postflight screening and management of women astronauts following long-duration spaceflight.\n",
      "29:Human space exploration poses inherent risks to astronauts’ health, leading to molecular changes that can significantly impact their well-being. These alterations encompass genomic instability, mitochondrial dysfunction, increased inflammation, homeostatic dysregulation, and various epigenomic changes. Remarkably, these changes bear similarities to those observed during the aging process on Earth. However, our understanding of the connection between these molecular shifts and disease development in space remains limited. Frailty syndrome, a clinical syndrome associated with biological aging, has not been comprehensively investigated during spaceflight. To bridge this knowledge gap, we leveraged murine data obtained from NASA’s GeneLab, along with astronaut data gathered from the JAXA and Inspiration4 missions. Our objective was to assess the presence of biological markers and pathways related to frailty, aging, and sarcopenia within the spaceflight context. Through our analysis, we identified notable changes in gene expression patterns that may be indicative of the development of a frailty-like condition during space missions. These findings suggest that the parallels between spaceflight and the aging process may extend to encompass frailty as well. Consequently, further investigations exploring the utility of a frailty index in monitoring astronaut health appear to be warranted.\n"
     ]
    }
   ],
   "source": [
    "import sys\n",
    "from pathlib import Path\n",
    "\n",
    "# adiciona a pasta pai do notebook ao sys.path\n",
    "sys.path.append(str(Path.cwd().parent))\n",
    "from Setup_handler import Setup_handler\n",
    "from postgress_integration.db_interface import database\n",
    "\n",
    "\n",
    "setup_handler = Setup_handler(database,\"SB_publication_PMC.csv\")\n",
    "url_list = setup_handler.publications_df.Link.to_list()\n",
    "abstracts_dict = setup_handler.worker.Get_all_abstracts(url_list[:30])\n",
    "topic_freq, related_articles = setup_handler.ctx_handler.Get_trending_topics(abstracts_dict,15)\n",
    "topics_articles_dict = setup_handler.worker.Format_topics_articles_dict(related_articles,setup_handler.publications_df.Title.to_list())\n",
    "summaries = setup_handler.ctx_handler.Generate_summary_based_on_topics(topics_articles_dict)\n",
    "\n"
   ]
  },
  {
   "cell_type": "code",
   "execution_count": 2,
   "id": "5c6666db",
   "metadata": {},
   "outputs": [],
   "source": [
    "topics_articles_dict = setup_handler.worker.Format_topics_articles_dict(related_articles,setup_handler.publications_df.Title.to_list())\n",
    "summaries = setup_handler.ctx_handler.Generate_summary_based_on_topics(topics_articles_dict)"
   ]
  }
 ],
 "metadata": {
  "kernelspec": {
   "display_name": "Python 3",
   "language": "python",
   "name": "python3"
  },
  "language_info": {
   "codemirror_mode": {
    "name": "ipython",
    "version": 3
   },
   "file_extension": ".py",
   "mimetype": "text/x-python",
   "name": "python",
   "nbconvert_exporter": "python",
   "pygments_lexer": "ipython3",
   "version": "3.11.13"
  }
 },
 "nbformat": 4,
 "nbformat_minor": 5
}
