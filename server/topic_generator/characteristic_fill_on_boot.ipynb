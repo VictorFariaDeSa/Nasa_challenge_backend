{
 "cells": [
  {
   "cell_type": "markdown",
   "id": "470d443a",
   "metadata": {},
   "source": [
    "### Processo completo de criação da tabela de characteristic"
   ]
  },
  {
   "cell_type": "code",
   "execution_count": 1,
   "id": "8106c465",
   "metadata": {},
   "outputs": [
    {
     "name": "stderr",
     "output_type": "stream",
     "text": [
      "WARNING: All log messages before absl::InitializeLog() is called are written to STDERR\n",
      "E0000 00:00:1759613199.395353     991 alts_credentials.cc:93] ALTS creds ignored. Not running on GCP and untrusted ALTS is not enabled.\n"
     ]
    },
    {
     "name": "stdout",
     "output_type": "stream",
     "text": [
      "[]\n",
      "[{'id': 1, 'name': 'ISS & Microgravity Biology', 'summary': 'Dive into \"ISS & Microgravity Biology\" to explore the profound impact of space on living organisms. This topic showcases cutting-edge research conducted aboard the International Space Station (ISS) and through microgravity analogs, revealing how life adapts to extreme environments. Discover studies on everything from the molecular responses and genetic adaptations of bacteria—examining their stress resistance to radiation and low pressure—to the physiological changes in mammalian models, including bone health and reproductive systems. This category also highlights the innovative development of specialized tools and techniques crucial for advancing biological research beyond Earth\\'s gravity.'}, {'id': 2, 'name': 'Space Genomics & Bone Loss', 'summary': 'This topic, \"Space Genomics & Bone Loss,\" delves into the critical research area exploring how space-related factors and other extreme environmental conditions impact bone health at a genetic and cellular level. It examines the mechanisms behind bone loss, a significant concern for astronauts and in conditions mimicking age-related bone degradation on Earth. Studies in this category investigate how various environmental cues, from housing conditions to radiation exposure, influence bone density and architecture. Furthermore, it explores potential therapeutic strategies, such as stem cell-based interventions, aimed at maintaining bone mass and function in challenging environments. The overarching goal is to understand the molecular responses to these stressors and develop effective countermeasures to prevent bone loss.'}, {'id': 3, 'name': 'Microgravity Plant & Bone Studies', 'summary': \"This topic delves into the profound impact of microgravity, often simulated, on biological systems, with a particular focus on **bone health**. It explores the cellular and molecular mechanisms underlying bone loss in microgravity environments, such as osteocyte apoptosis and subsequent bone resorption, which are crucial for understanding and mitigating skeletal issues faced by astronauts. Additionally, the collection examines the combined effects of microgravity and radiation on various physiological processes, including oxidative stress and tissue remodeling in organs like the heart. While the topic name includes 'Plant Studies', the current articles primarily center on mammalian (e.g., mouse) responses to microgravity conditions.\"}, {'id': 4, 'name': 'Spaceflight Musculoskeletal & Radiation Effects', 'summary': \"This topic explores the profound physiological challenges faced by the human body during spaceflight. It specifically focuses on two critical areas: the **musculoskeletal system** and the impact of **radiation**. Visitors will learn about how the microgravity environment leads to significant bone density loss and muscle atrophy, impacting astronauts' strength and mobility. Concurrently, the section delves into the various forms of space radiation (galactic cosmic rays, solar particle events) and their potential health consequences, ranging from acute radiation sickness to increased cancer risk and central nervous system damage. Understanding these effects is crucial for developing countermeasures and ensuring the safety and long-term health of astronauts on future long-duration missions.\"}, {'id': 5, 'name': 'Cellular & Molecular Spaceflight Biology', 'summary': \"**Cellular & Molecular Spaceflight Biology** explores how living organisms, at their most fundamental cellular and molecular levels, respond and adapt to the extreme conditions of space. This field investigates the impact of unique spaceflight stressors, such as high-energy radiation, on crucial biological processes like gene expression and cellular repair mechanisms.\\n\\nWhile focusing on the direct challenges of space, this topic also encompasses foundational research into general cellular stress responses. Studies, for example, delve into how cells react to radiation-induced damage, or how plants regulate growth and manage stress through signaling pathways and calcium dynamics. This breadth of research provides crucial insights into biological resilience and adaptation, informing our understanding of life's potential and limitations in extraterrestrial environments.\"}]\n"
     ]
    }
   ],
   "source": [
    "import sys\n",
    "from pathlib import Path\n",
    "\n",
    "# adiciona a pasta pai do notebook ao sys.path\n",
    "sys.path.append(str(Path.cwd().parent))\n",
    "\n",
    "from postgress_integration.tables import topics_table\n",
    "from postgress_integration.db_interface import database\n",
    "from LDA_handler import LDA_handler\n",
    "\n",
    "handler = LDA_handler(\"SB_publication_PMC.csv\")\n",
    "db_topics = handler.Create_topics_dict(5)\n",
    "\n",
    "\n",
    "await database.connect() \n",
    "\n",
    "rows = await topics_table.get_all()\n",
    "print(rows)\n",
    "for i in range(5):\n",
    "    new_row = topics_table.Create_topic(\n",
    "        name=db_topics[i][\"name\"],\n",
    "        summary=db_topics[i][\"description\"],\n",
    "        )\n",
    "    await topics_table.Insert_topic(new_row)\n",
    "\n",
    "\n",
    "\n",
    "rows = await topics_table.get_all()\n",
    "print(rows)\n",
    "\n",
    "await database.disconnect()"
   ]
  },
  {
   "cell_type": "markdown",
   "id": "bed253e6",
   "metadata": {},
   "source": [
    "### Metodo para pegar os abstracts dos artigos"
   ]
  },
  {
   "cell_type": "code",
   "execution_count": null,
   "id": "778f192f",
   "metadata": {},
   "outputs": [],
   "source": [
    "import requests\n",
    "from bs4 import BeautifulSoup\n",
    "import pandas as pd\n",
    "\n",
    "\n",
    "import requests\n",
    "from bs4 import BeautifulSoup\n",
    "\n",
    "\n",
    "def get_background(url):\n",
    "    headers = {'User-Agent': 'Mozilla/5.0'}\n",
    "    resposta = requests.get(url, headers=headers, timeout=5)\n",
    "    resposta.raise_for_status()\n",
    "\n",
    "    soup = BeautifulSoup(resposta.text, \"html.parser\")\n",
    "    background_section = soup.find('section', class_='pmc_sec_title')\n",
    "\n",
    "    if background_section:\n",
    "        paragraph = background_section.find('p', recursive=False)\n",
    "        if paragraph:\n",
    "            return paragraph.get_text(strip=True)\n",
    "    return None\n",
    "\n",
    "def get_abstract(url):\n",
    "    headers = {'User-Agent': 'Mozilla/5.0'}\n",
    "    resposta = requests.get(url, headers=headers, timeout=5)\n",
    "    resposta.raise_for_status()\n",
    "\n",
    "    soup = BeautifulSoup(resposta.text, \"html.parser\")\n",
    "    abstract_section = soup.find('section', class_='abstract')\n",
    "\n",
    "    if abstract_section:\n",
    "        paragraph = abstract_section.find('p', recursive=False)\n",
    "        if paragraph:\n",
    "            return paragraph.get_text(strip=True)\n",
    "\n",
    "    return get_background(url)\n",
    "\n"
   ]
  },
  {
   "cell_type": "code",
   "execution_count": 65,
   "id": "624a98e7",
   "metadata": {},
   "outputs": [
    {
     "name": "stdout",
     "output_type": "stream",
     "text": [
      "None\n"
     ]
    }
   ],
   "source": [
    "print(get_abstract(\"https://www.ncbi.nlm.nih.gov/pmc/articles/PMC6985101/\"))"
   ]
  },
  {
   "cell_type": "code",
   "execution_count": 66,
   "id": "0e9668ec",
   "metadata": {},
   "outputs": [
    {
     "name": "stdout",
     "output_type": "stream",
     "text": [
      "⚠️ Erro ao tentar pegar background de https://www.ncbi.nlm.nih.gov/pmc/articles/PMC8099722/: 429 Client Error: Too Many Requests for url: https://pmc.ncbi.nlm.nih.gov/articles/PMC8099722/\n",
      "❌ Erro ao tentar pegar abstract de https://www.ncbi.nlm.nih.gov/pmc/articles/PMC11929063/: 429 Client Error: Too Many Requests for url: https://pmc.ncbi.nlm.nih.gov/articles/PMC11929063/\n",
      "❌ Erro ao tentar pegar abstract de https://www.ncbi.nlm.nih.gov/pmc/articles/PMC11929063/: 429 Client Error: Too Many Requests for url: https://pmc.ncbi.nlm.nih.gov/articles/PMC11929063/\n",
      "❌ Erro ao tentar pegar abstract de https://www.ncbi.nlm.nih.gov/pmc/articles/PMC7954810/: 429 Client Error: Too Many Requests for url: https://pmc.ncbi.nlm.nih.gov/articles/PMC7954810/\n",
      "❌ Erro ao tentar pegar abstract de https://www.ncbi.nlm.nih.gov/pmc/articles/PMC10996920/: 429 Client Error: Too Many Requests for url: https://pmc.ncbi.nlm.nih.gov/articles/PMC10996920/\n",
      "❌ Erro ao tentar pegar abstract de https://www.ncbi.nlm.nih.gov/pmc/articles/PMC5470433/: 429 Client Error: Too Many Requests for url: https://pmc.ncbi.nlm.nih.gov/articles/PMC5470433/\n",
      "⚠️ Erro ao tentar pegar background de https://www.ncbi.nlm.nih.gov/pmc/articles/PMC10607959/: 429 Client Error: Too Many Requests for url: https://pmc.ncbi.nlm.nih.gov/articles/PMC10607959/\n",
      "❌ Erro ao tentar pegar abstract de https://www.ncbi.nlm.nih.gov/pmc/articles/PMC5491145/: 429 Client Error: Too Many Requests for url: https://pmc.ncbi.nlm.nih.gov/articles/PMC5491145/\n",
      "space: 619\n",
      "spaceflight: 569\n",
      "mice: 366\n",
      "bone: 347\n",
      "microgravity: 311\n",
      "cell: 309\n",
      "cells: 303\n",
      "expression: 263\n",
      "data: 240\n",
      "gene: 234\n",
      "study: 232\n",
      "changes: 229\n",
      "increased: 225\n",
      "genes: 211\n",
      "response: 208\n",
      "space: [2, 7, 6, 4, 18, 1, 0, 20, 23, 22, 27, 26, 31, 33, 32, 29, 25, 30, 40, 57, 60, 75, 79, 80, 82, 83, 90, 85, 84, 93, 86, 95, 104, 102, 107, 111, 113, 106, 115, 112, 109, 121, 105, 120, 128, 126, 135, 130, 140, 138, 139, 143, 141, 137, 142, 150, 151, 154, 165, 182, 179, 184, 191, 198, 203, 206, 212, 201, 208, 202, 221, 228, 237, 238, 240, 242, 245, 254, 264, 262, 268, 265, 257, 266, 259, 275, 273, 281, 274, 280, 279, 288, 285, 283, 291, 290, 297, 289, 293, 300, 302, 295, 298, 299, 307, 301, 304, 314, 305, 313, 310, 311, 309, 325, 326, 327, 333, 336, 344, 346, 347, 355, 360, 364, 367, 371, 370, 369, 379, 386, 378, 380, 391, 385, 382, 393, 388, 384, 390, 394, 396, 395, 399, 400, 398, 403, 405, 407, 397, 409, 413, 414, 418, 412, 429, 427, 433, 437, 432, 439, 436, 444, 446, 441, 445, 447, 448, 449, 459, 458, 461, 460, 470, 462, 480, 484, 491, 489, 486, 496, 497, 495, 508, 500, 485, 511, 510, 509, 515, 519, 514, 521, 522, 532, 531, 527, 536, 533, 534, 535, 530, 525, 526, 529, 537, 541, 540, 539, 543, 549, 546, 544, 542, 545, 547, 553, 552, 554, 563, 556, 567, 566, 573, 572, 574, 577, 578, 585, 583, 581, 582, 580, 579, 584, 589, 571, 590, 596, 600, 595, 591, 592, 594, 603, 604, 606, 605]\n",
      "spaceflight: [7, 5, 18, 20, 23, 22, 26, 32, 29, 25, 30, 40, 57, 61, 75, 82, 83, 81, 93, 95, 104, 102, 107, 103, 106, 108, 112, 109, 121, 105, 120, 128, 123, 125, 135, 130, 143, 141, 142, 150, 153, 154, 157, 152, 164, 163, 182, 179, 184, 189, 193, 191, 190, 198, 204, 206, 212, 201, 208, 214, 215, 202, 228, 237, 238, 240, 244, 245, 252, 263, 264, 257, 266, 267, 272, 275, 281, 274, 282, 287, 285, 283, 286, 291, 289, 293, 300, 298, 307, 301, 306, 303, 305, 310, 309, 325, 327, 333, 344, 347, 355, 364, 367, 368, 371, 370, 381, 369, 379, 366, 386, 378, 380, 387, 383, 391, 385, 382, 393, 388, 384, 390, 396, 395, 399, 400, 398, 408, 405, 407, 414, 418, 419, 412, 427, 438, 440, 432, 446, 441, 447, 448, 460, 470, 462, 480, 479, 491, 496, 495, 500, 485, 553, 561, 563, 564, 567, 566, 562, 583, 582, 589, 590, 595, 593, 591, 592, 594, 604, 606, 602, 605]\n",
      "mice: [8, 9, 6, 5, 1, 0, 20, 27, 26, 40, 55, 54, 59, 58, 57, 60, 80, 82, 91, 92, 93, 94, 95, 112, 109, 121, 120, 128, 126, 125, 133, 130, 153, 185, 186, 192, 193, 191, 190, 206, 212, 208, 214, 215, 228, 224, 233, 238, 244, 246, 247, 250, 248, 268, 279, 288, 287, 285, 283, 291, 290, 289, 306, 304, 310, 325, 321, 333, 331, 365, 386, 387, 385, 393, 394, 396, 395, 399, 400, 405, 412, 428, 427, 431, 438, 440, 444, 464, 461, 460, 462, 468, 472, 471, 466, 474, 480, 475, 476, 478, 482, 477, 473, 481, 483, 506, 545, 563, 589, 590, 595, 591, 606]\n",
      "bone: [2, 8, 9, 6, 1, 40, 55, 54, 59, 58, 81, 90, 91, 92, 86, 117, 118, 123, 124, 133, 161, 185, 186, 189, 212, 208, 214, 215, 246, 247, 250, 248, 251, 249, 311, 309, 322, 361, 394, 428, 431, 440, 439, 464, 461, 470, 462, 468, 472, 465, 471, 466, 467, 474, 475, 476, 478, 482, 477, 479, 473, 481, 483, 485, 560, 564, 566, 589, 571]\n",
      "microgravity: [2, 3, 5, 4, 18, 1, 0, 33, 32, 25, 40, 59, 57, 82, 106, 112, 121, 120, 128, 125, 134, 140, 139, 137, 150, 153, 154, 157, 152, 164, 182, 189, 193, 191, 198, 204, 203, 212, 205, 208, 214, 215, 216, 221, 237, 244, 242, 245, 256, 263, 258, 260, 265, 257, 266, 259, 272, 271, 275, 281, 274, 286, 290, 292, 299, 304, 309, 325, 326, 333, 339, 346, 348, 355, 358, 351, 367, 366, 386, 378, 380, 385, 393, 390, 399, 403, 407, 413, 421, 418, 419, 422, 427, 433, 440, 432, 436, 446, 441, 445, 479, 484, 496, 485, 511, 510, 509, 532, 531, 526, 549, 542, 545, 547, 567, 566, 562, 568, 574, 583, 581, 582, 589, 595, 593, 603, 604, 606, 605]\n",
      "cell: [2, 3, 6, 5, 1, 23, 27, 38, 34, 37, 30, 43, 46, 52, 65, 62, 68, 71, 70, 74, 83, 90, 88, 91, 92, 93, 94, 95, 109, 105, 128, 126, 135, 132, 131, 138, 137, 142, 150, 157, 152, 171, 177, 185, 204, 206, 209, 201, 205, 202, 216, 223, 222, 227, 234, 237, 238, 239, 236, 245, 248, 249, 255, 252, 264, 257, 266, 270, 267, 259, 281, 280, 279, 288, 285, 283, 291, 294, 300, 295, 307, 301, 303, 304, 325, 322, 321, 330, 327, 332, 329, 331, 336, 339, 350, 361, 362, 367, 369, 366, 378, 387, 363, 382, 393, 384, 390, 394, 395, 399, 403, 411, 415, 418, 417, 437, 441, 456, 457, 453, 468, 465, 475, 476, 493, 498, 506, 542, 547, 554, 556, 566, 562, 568, 577, 603, 605]\n",
      "cells: [2, 15, 3, 6, 4, 1, 20, 38, 44, 50, 52, 65, 64, 62, 63, 74, 83, 90, 91, 92, 84, 87, 86, 102, 128, 135, 134, 131, 140, 138, 139, 141, 137, 155, 160, 161, 157, 176, 171, 173, 177, 181, 186, 190, 195, 204, 199, 203, 209, 205, 223, 227, 234, 233, 238, 239, 248, 249, 255, 252, 264, 259, 271, 280, 279, 288, 285, 283, 295, 299, 306, 303, 304, 313, 325, 322, 330, 327, 333, 332, 329, 334, 336, 342, 344, 345, 348, 353, 350, 352, 361, 351, 356, 362, 360, 364, 367, 371, 366, 387, 383, 382, 393, 384, 394, 407, 411, 418, 423, 424, 437, 439, 448, 456, 449, 457, 458, 453, 470, 465, 474, 475, 476, 483, 506, 505, 517, 547, 566, 562, 568, 577, 596, 603, 604]\n",
      "expression: [6, 5, 4, 1, 23, 27, 26, 33, 38, 29, 40, 52, 59, 75, 80, 83, 90, 91, 86, 103, 108, 112, 128, 127, 133, 143, 142, 147, 150, 153, 160, 161, 158, 152, 163, 181, 179, 184, 186, 192, 193, 206, 201, 215, 202, 216, 225, 234, 237, 233, 236, 251, 252, 257, 266, 270, 288, 287, 285, 286, 290, 289, 302, 301, 303, 305, 325, 342, 337, 339, 348, 353, 355, 352, 361, 368, 373, 370, 369, 376, 366, 378, 380, 387, 383, 382, 393, 388, 384, 395, 399, 401, 398, 403, 402, 413, 414, 418, 419, 424, 442, 439, 436, 443, 441, 459, 462, 471, 466, 480, 475, 476, 473, 492, 496, 525, 529, 542, 569, 568, 574, 582, 590, 591, 592, 602, 605]\n",
      "data: [13, 12, 4, 20, 21, 23, 27, 29, 37, 30, 44, 46, 55, 54, 57, 66, 79, 90, 88, 91, 93, 86, 96, 95, 104, 107, 103, 111, 113, 108, 112, 117, 109, 121, 105, 128, 123, 133, 139, 142, 147, 150, 153, 151, 155, 182, 179, 184, 203, 217, 219, 221, 237, 240, 245, 248, 251, 269, 273, 278, 279, 288, 285, 291, 297, 293, 300, 298, 299, 306, 303, 304, 314, 305, 310, 316, 330, 327, 353, 355, 358, 354, 356, 368, 370, 366, 386, 378, 380, 383, 384, 394, 398, 403, 414, 412, 410, 433, 446, 453, 460, 462, 475, 478, 491, 494, 497, 495, 514, 525, 541, 573, 578, 583, 590, 600, 592, 594]\n",
      "gene: [6, 4, 27, 26, 33, 29, 40, 53, 61, 72, 83, 88, 85, 93, 87, 94, 86, 96, 95, 103, 108, 112, 143, 142, 147, 153, 161, 158, 152, 165, 163, 170, 169, 172, 181, 179, 193, 200, 206, 205, 215, 220, 234, 237, 236, 244, 255, 252, 268, 257, 266, 273, 281, 280, 278, 282, 287, 286, 289, 300, 302, 295, 301, 303, 305, 318, 317, 327, 336, 337, 339, 348, 353, 355, 361, 356, 368, 370, 369, 366, 387, 383, 382, 388, 384, 396, 395, 399, 401, 403, 402, 397, 414, 418, 419, 420, 412, 410, 438, 442, 436, 441, 459, 462, 468, 472, 466, 467, 474, 473, 488, 484, 503, 500, 522, 546, 547, 553, 552, 554, 556, 559, 569, 568, 574, 583, 582, 592, 602, 605]\n",
      "study: [18, 1, 0, 23, 27, 32, 30, 45, 40, 44, 42, 52, 53, 59, 58, 63, 82, 91, 85, 92, 94, 117, 109, 121, 105, 120, 126, 123, 124, 129, 125, 134, 132, 130, 131, 140, 150, 160, 157, 152, 164, 165, 176, 170, 169, 172, 184, 193, 194, 190, 198, 196, 203, 201, 205, 208, 214, 202, 218, 225, 234, 237, 233, 238, 240, 242, 245, 255, 252, 263, 265, 270, 274, 288, 287, 285, 283, 286, 291, 289, 302, 301, 303, 304, 314, 313, 317, 326, 327, 333, 342, 337, 339, 345, 353, 355, 352, 358, 354, 356, 365, 362, 364, 359, 372, 373, 371, 375, 381, 366, 386, 378, 387, 393, 394, 399, 401, 402, 413, 421, 418, 422, 425, 424, 427, 433, 438, 442, 440, 432, 444, 441, 445, 450, 456, 458, 470, 468, 471, 467, 474, 478, 482, 473, 488, 484, 494, 496, 497, 503, 500, 505, 514, 527, 529, 543, 549, 542, 545, 553, 552, 554, 563, 565, 556, 562, 573, 574, 585, 589, 590, 596, 593, 591, 606, 605]\n",
      "changes: [2, 9, 6, 5, 22, 27, 26, 32, 29, 40, 46, 53, 55, 61, 80, 83, 93, 86, 107, 103, 115, 108, 117, 118, 109, 121, 105, 120, 128, 124, 133, 130, 141, 153, 164, 163, 181, 185, 179, 183, 186, 193, 198, 204, 206, 212, 205, 208, 216, 219, 221, 234, 237, 246, 250, 249, 252, 265, 257, 270, 267, 259, 275, 278, 279, 288, 287, 277, 285, 286, 291, 290, 292, 289, 300, 298, 301, 306, 305, 310, 316, 325, 327, 333, 342, 339, 344, 355, 354, 364, 368, 370, 366, 391, 382, 393, 388, 390, 396, 395, 399, 398, 403, 405, 413, 418, 419, 420, 427, 438, 432, 436, 441, 445, 449, 459, 464, 461, 460, 462, 465, 478, 481, 489, 496, 500, 485, 509, 526, 529, 545, 563, 575, 577, 581, 571, 590, 595, 591, 592, 602, 605]\n",
      "increased: [2, 15, 3, 6, 12, 18, 1, 33, 32, 29, 59, 58, 57, 71, 72, 82, 83, 81, 91, 87, 86, 95, 115, 119, 121, 127, 135, 133, 134, 131, 140, 139, 160, 157, 164, 184, 186, 192, 190, 198, 212, 209, 201, 214, 215, 217, 202, 216, 219, 218, 222, 221, 227, 234, 233, 238, 236, 251, 249, 252, 270, 267, 272, 278, 279, 288, 287, 285, 292, 299, 301, 313, 309, 318, 325, 352, 361, 360, 367, 373, 375, 366, 378, 393, 390, 394, 396, 407, 413, 416, 414, 419, 425, 424, 428, 439, 443, 441, 445, 447, 450, 458, 464, 461, 470, 462, 468, 472, 465, 480, 482, 473, 481, 484, 492, 505, 516, 504, 509, 522, 525, 526, 560, 565, 568, 577, 581, 589, 596, 595, 593, 597, 604, 606, 605]\n",
      "genes: [6, 5, 20, 33, 30, 53, 59, 75, 80, 83, 88, 85, 87, 86, 103, 108, 112, 133, 130, 150, 156, 152, 164, 163, 179, 184, 186, 194, 204, 206, 201, 205, 202, 216, 220, 221, 227, 237, 233, 236, 244, 249, 252, 264, 266, 281, 282, 287, 290, 289, 300, 302, 295, 301, 303, 304, 310, 320, 342, 339, 353, 355, 358, 368, 376, 366, 380, 387, 389, 384, 396, 395, 401, 400, 403, 402, 413, 414, 419, 410, 442, 439, 436, 441, 451, 447, 460, 462, 474, 480, 473, 484, 492, 494, 496, 533, 541, 539, 546, 547, 553, 558, 554, 556, 574, 583, 592, 602, 605]\n",
      "response: [8, 12, 5, 18, 20, 23, 27, 26, 33, 34, 37, 52, 53, 54, 59, 66, 65, 61, 69, 63, 73, 75, 74, 81, 95, 119, 128, 124, 132, 140, 142, 150, 153, 152, 176, 170, 169, 175, 172, 177, 184, 183, 192, 203, 206, 212, 205, 217, 216, 219, 222, 221, 224, 237, 238, 250, 248, 251, 249, 252, 253, 264, 265, 257, 266, 267, 259, 281, 282, 279, 288, 285, 291, 290, 289, 300, 302, 295, 299, 301, 303, 310, 319, 318, 317, 325, 321, 329, 336, 342, 339, 343, 348, 353, 355, 352, 358, 360, 372, 367, 370, 366, 380, 384, 390, 396, 399, 401, 403, 405, 402, 413, 414, 424, 410, 427, 433, 438, 436, 441, 464, 460, 475, 482, 477, 473, 481, 483, 500, 509, 525, 526, 546, 542, 547, 567, 569, 590, 595, 591, 592, 605]\n"
     ]
    }
   ],
   "source": [
    "\n",
    "\n"
   ]
  },
  {
   "cell_type": "code",
   "execution_count": null,
   "id": "a8bd62b6",
   "metadata": {},
   "outputs": [],
   "source": []
  },
  {
   "cell_type": "code",
   "execution_count": null,
   "id": "aff8bac5",
   "metadata": {},
   "outputs": [],
   "source": []
  }
 ],
 "metadata": {
  "kernelspec": {
   "display_name": "Python 3",
   "language": "python",
   "name": "python3"
  },
  "language_info": {
   "codemirror_mode": {
    "name": "ipython",
    "version": 3
   },
   "file_extension": ".py",
   "mimetype": "text/x-python",
   "name": "python",
   "nbconvert_exporter": "python",
   "pygments_lexer": "ipython3",
   "version": "3.11.13"
  }
 },
 "nbformat": 4,
 "nbformat_minor": 5
}
