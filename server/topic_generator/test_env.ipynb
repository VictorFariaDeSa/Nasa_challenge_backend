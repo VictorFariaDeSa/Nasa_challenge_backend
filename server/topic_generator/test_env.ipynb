{
 "cells": [
  {
   "cell_type": "code",
   "execution_count": null,
   "id": "273357c3",
   "metadata": {},
   "outputs": [],
   "source": [
    "import pandas as pd\n",
    "from sklearn.feature_extraction.text import CountVectorizer\n",
    "from gensim import corpora, models\n",
    "from gensim.parsing.preprocessing import STOPWORDS\n"
   ]
  },
  {
   "cell_type": "code",
   "execution_count": 49,
   "id": "0c86a479",
   "metadata": {},
   "outputs": [],
   "source": [
    "from langchain_google_genai import ChatGoogleGenerativeAI\n",
    "from langchain_core.prompts import ChatPromptTemplate\n",
    "from langchain_core.messages import SystemMessage\n",
    "from typing import Dict\n",
    "from langchain.output_parsers import PydanticOutputParser\n",
    "from pydantic import RootModel\n",
    "import os\n",
    "\n",
    "api_key = os.getenv(\"GEMINI_API_KEY\")\n",
    "\n",
    "\n",
    "class TopicNames(RootModel[Dict[str, str]]):\n",
    "    \"\"\"Mapeia o nome original do tópico para um nome descritivo.\"\"\"\n",
    "    pass\n",
    "\n",
    "\n",
    "\n",
    "class TopicAgent:\n",
    "    def __init__(self):\n",
    "        self.llm = ChatGoogleGenerativeAI(model=\"gemini-2.5-flash\",api_key=api_key)\n",
    "        self.parser = PydanticOutputParser(pydantic_object=TopicNames)\n",
    "        self.context_prompt = (\n",
    "            \"You are a market intelligence expert and trend analyst in science and technology. \"\n",
    "            \"Your task is to analyze the output of an LDA model and assign meaningful, short, and descriptive names \"\n",
    "            \"to each topic based on its keywords. \"\n",
    "            \"Return your output STRICTLY as a valid JSON object mapping the topic ID to its name.\\n\"\n",
    "            \"Example:\\n\"\n",
    "            \"{\\n\"\n",
    "            \"  'Topic 1': 'topic name',\\n\"\n",
    "            \"  'Topic 2': 'topic name'\\n\"\n",
    "            \"}\\n\"\n",
    "        )\n",
    "\n",
    "\n",
    "    def Generate_names(self, topic_string: str) -> str:\n",
    "        prompt = ChatPromptTemplate.from_messages([\n",
    "            SystemMessage(content=self.context_prompt),\n",
    "            (\"human\", \"Generate topic names considering this output: {topic_string}\")\n",
    "        ])\n",
    "\n",
    "\n",
    "        topic_chain = prompt | self.llm | self.parser\n",
    "        result = topic_chain.invoke({\"topic_string\": topic_string})\n",
    "        return result.root\n"
   ]
  },
  {
   "cell_type": "code",
   "execution_count": 50,
   "id": "cbcd6c9e",
   "metadata": {},
   "outputs": [],
   "source": [
    "class LDA_handler():\n",
    "    def __init__(self,csv_file):\n",
    "        self.data_src = csv_file\n",
    "        self.df = pd.read_csv(csv_file)\n",
    "        self.classify_agent = TopicAgent()\n",
    "\n",
    "    def Generate_article_text_list(self):\n",
    "        return self.df['Title'].tolist()\n",
    "\n",
    "    def Generate_tokenized_list(self,text_list):\n",
    "        return [\n",
    "            [word for word in text.lower().split() if word not in STOPWORDS]\n",
    "            for text in text_list\n",
    "        ]\n",
    "\n",
    "    def Transform_data_numeric(self,tokens_list):\n",
    "        dictionary = corpora.Dictionary(tokens_list)\n",
    "        corpus = [dictionary.doc2bow(text) for text in tokens_list]\n",
    "        return dictionary, corpus\n",
    "    \n",
    "    def Generate_lda_model(self,topics_number,corpus,dictionary,passes):\n",
    "        lda_model = models.LdaModel(corpus, num_topics=topics_number, id2word=dictionary, passes=passes, random_state=42)  \n",
    "        return lda_model\n",
    "\n",
    "    def Get_lda_topics_keywords(self, lda_model):\n",
    "        result = \"\"\n",
    "        for i in range(lda_model.num_topics):\n",
    "            topic_text = f\"Topic {i}: {lda_model.print_topic(i)}\\n\"\n",
    "            result += topic_text\n",
    "        return result\n",
    "\n",
    "    def Append_model_to_df(self,lda_model,corpus):\n",
    "        title_topics = []\n",
    "        for doc_bow in corpus:\n",
    "            title_topics.append(lda_model.get_document_topics(doc_bow))\n",
    "\n",
    "        self.df['topicos'] = title_topics\n",
    "\n",
    "    def Create_model_names(self,topics_keywords):\n",
    "        return self.classify_agent.Generate_names(topics_keywords)\n",
    "\n",
    "    def main_process(self):\n",
    "        text_list = self.Generate_article_text_list()\n",
    "        tokenized_list = self.Generate_tokenized_list(text_list)\n",
    "        dictionary,corpus = self.Transform_data_numeric(tokenized_list)\n",
    "        lda_model = self.Generate_lda_model(5,corpus,dictionary,20)\n",
    "        topics_keywords = self.Get_lda_topics_keywords(lda_model)\n",
    "        print(self.Create_model_names(topics_keywords))\n"
   ]
  },
  {
   "cell_type": "code",
   "execution_count": 51,
   "id": "2cec42d0",
   "metadata": {},
   "outputs": [
    {
     "name": "stderr",
     "output_type": "stream",
     "text": [
      "E0000 00:00:1759607270.201785    1104 alts_credentials.cc:93] ALTS creds ignored. Not running on GCP and untrusted ALTS is not enabled.\n"
     ]
    },
    {
     "name": "stdout",
     "output_type": "stream",
     "text": [
      "{'Topic 0': 'ISS Biological Research', 'Topic 1': 'Space Genomics & Bone Health', 'Topic 2': 'Microgravity Physiology: Plants & Animals', 'Topic 3': 'Spaceflight Effects: Muscle & Radiation', 'Topic 4': 'Spaceflight Molecular & Cellular Responses'}\n"
     ]
    }
   ],
   "source": [
    "handler = LDA_handler(\"SB_publication_PMC.csv\")\n",
    "handler.main_process()"
   ]
  },
  {
   "cell_type": "code",
   "execution_count": null,
   "id": "25c5eee5",
   "metadata": {},
   "outputs": [],
   "source": []
  }
 ],
 "metadata": {
  "kernelspec": {
   "display_name": "Python 3",
   "language": "python",
   "name": "python3"
  },
  "language_info": {
   "codemirror_mode": {
    "name": "ipython",
    "version": 3
   },
   "file_extension": ".py",
   "mimetype": "text/x-python",
   "name": "python",
   "nbconvert_exporter": "python",
   "pygments_lexer": "ipython3",
   "version": "3.11.13"
  }
 },
 "nbformat": 4,
 "nbformat_minor": 5
}
