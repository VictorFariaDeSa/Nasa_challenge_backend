{
 "cells": [
  {
   "cell_type": "code",
   "execution_count": 22,
   "id": "273357c3",
   "metadata": {},
   "outputs": [],
   "source": [
    "import pandas as pd\n",
    "from sklearn.feature_extraction.text import CountVectorizer\n",
    "from gensim import corpora, models\n",
    "from gensim.parsing.preprocessing import STOPWORDS\n",
    "from concurrent.futures import ThreadPoolExecutor, as_completed"
   ]
  },
  {
   "cell_type": "code",
   "execution_count": 23,
   "id": "0c86a479",
   "metadata": {},
   "outputs": [],
   "source": [
    "from langchain_google_genai import ChatGoogleGenerativeAI\n",
    "from langchain_core.prompts import ChatPromptTemplate\n",
    "from langchain_core.messages import SystemMessage\n",
    "from typing import Dict\n",
    "from langchain.output_parsers import PydanticOutputParser\n",
    "from pydantic import RootModel\n",
    "import os\n",
    "from langchain.schema.output_parser import StrOutputParser\n",
    "\n",
    "api_key = os.getenv(\"GEMINI_API_KEY\")\n",
    "\n",
    "\n",
    "class TopicNames(RootModel[Dict[str, str]]):\n",
    "    pass\n",
    "\n",
    "\n",
    "\n",
    "class TopicAgent:\n",
    "    def __init__(self):\n",
    "        self.llm = ChatGoogleGenerativeAI(model=\"gemini-2.5-flash\",api_key=api_key)\n",
    "        self.context_prompt = (\n",
    "            \"You are a market intelligence expert and trend analyst in science and technology. \"\n",
    "        )\n",
    "\n",
    "\n",
    "    def Generate_names(self, topic_string: str) -> str:\n",
    "        prompt = ChatPromptTemplate.from_messages([\n",
    "            SystemMessage(content=self.context_prompt),\n",
    "            (\"Your task is to analyze the output of an LDA model and assign meaningful, short, and descriptive names \"\n",
    "            \"to each topic based on its keywords. \"\n",
    "            \"Return your output STRICTLY as a valid JSON object mapping the topic ID to its name.\\n\"\n",
    "            \"Example:\\n\"\n",
    "            \"{{\\n\"\n",
    "            \"  'topic 1': 'topic name',\\n\"\n",
    "            \"  'topic 2': 'topic name'\\n\"\n",
    "            \"}}\\n\"),\n",
    "            (\"human\", \"Generate topic names considering this output: {topic_string}\")\n",
    "        ])\n",
    "\n",
    "\n",
    "        topic_chain = prompt | self.llm | PydanticOutputParser(pydantic_object=TopicNames)\n",
    "        result = topic_chain.invoke({\"topic_string\": topic_string})\n",
    "        return result.root\n",
    "    \n",
    "    def Generate_summary(self, topic_string: str) -> str:\n",
    "        prompt = ChatPromptTemplate.from_messages([\n",
    "            SystemMessage(content=self.context_prompt),\n",
    "            (\"Your task is to analyze a topic name for a give category and the titles from the articles that belong to this category\"\n",
    "            \" and write a small descriptive summary to understant site visitors to understand what that topic is about \"\n",
    "            ),\n",
    "            (\"human\", \"Generate text considering this this informations: {topic_string}\")\n",
    "        ])\n",
    "\n",
    "\n",
    "        topic_chain = prompt | self.llm | StrOutputParser()\n",
    "        result = topic_chain.invoke({\"topic_string\": topic_string})\n",
    "        return result\n"
   ]
  },
  {
   "cell_type": "code",
   "execution_count": 27,
   "id": "cbcd6c9e",
   "metadata": {},
   "outputs": [],
   "source": [
    "class LDA_handler():\n",
    "    def __init__(self,csv_file):\n",
    "        self.data_src = csv_file\n",
    "        self.df = pd.read_csv(csv_file)\n",
    "        self.classify_agent = TopicAgent()\n",
    "\n",
    "    def Generate_article_text_list(self):\n",
    "        return self.df['Title'].tolist()\n",
    "\n",
    "    def Generate_tokenized_list(self,text_list):\n",
    "        return [\n",
    "            [word for word in text.lower().split() if word not in STOPWORDS]\n",
    "            for text in text_list\n",
    "        ]\n",
    "\n",
    "    def Transform_data_numeric(self,tokens_list):\n",
    "        dictionary = corpora.Dictionary(tokens_list)\n",
    "        corpus = [dictionary.doc2bow(text) for text in tokens_list]\n",
    "        return dictionary, corpus\n",
    "    \n",
    "    def Generate_lda_model(self,topics_number,corpus,dictionary,passes):\n",
    "        lda_model = models.LdaModel(corpus, num_topics=topics_number, id2word=dictionary, passes=passes, random_state=42)  \n",
    "        return lda_model\n",
    "\n",
    "    def Get_lda_topics_keywords(self, lda_model):\n",
    "        result = \"\"\n",
    "        for i in range(lda_model.num_topics):\n",
    "            topic_text = f\"topic {i}: {lda_model.print_topic(i)}\\n\"\n",
    "            result += topic_text\n",
    "        return result\n",
    "\n",
    "    def Append_model_to_df(self,lda_model,corpus):\n",
    "        title_topics = []\n",
    "        for doc_bow in corpus:\n",
    "            title_topics.append(lda_model.get_document_topics(doc_bow))\n",
    "\n",
    "        self.df['topics'] = title_topics\n",
    "\n",
    "    def Create_model_names(self,topics_keywords):\n",
    "        return self.classify_agent.Generate_names(topics_keywords)\n",
    "\n",
    "    def Get_all_titles_from_topic(self, topic_num, threshold=0.4):\n",
    "\n",
    "        def topic_greater_than_threshold(topicos):\n",
    "            if topic_num >= len(topicos):\n",
    "                return False\n",
    "            _, valor = topicos[topic_num]\n",
    "            return valor > threshold\n",
    "\n",
    "        return self.df[self.df['topics'].apply(topic_greater_than_threshold)]['Title'].tolist()\n",
    "    \n",
    "\n",
    "    def summarize_topic(self,i,model_names,max_titles_per_topic):\n",
    "        topic_name = model_names[f\"topic {i}\"]\n",
    "        articles_list = self.Get_all_titles_from_topic(i, 0.95)\n",
    "        summary_prompt = f\"\"\"\n",
    "        Topic name: {topic_name}\n",
    "        Article list: {articles_list}\n",
    "        \"\"\"\n",
    "        summary_text = self.classify_agent.Generate_summary(summary_prompt)\n",
    "        return i, {\"name\": topic_name, \"description\": summary_text}\n",
    "    \n",
    "\n",
    "\n",
    "    def Create_topics_dict(self, number_of_topics, max_titles_per_topic=100):\n",
    "        topics_dict = {}\n",
    "        text_list = self.Generate_article_text_list()\n",
    "        tokenized_list = self.Generate_tokenized_list(text_list)\n",
    "        dictionary, corpus = self.Transform_data_numeric(tokenized_list)\n",
    "        lda_model = self.Generate_lda_model(number_of_topics, corpus, dictionary, 20)\n",
    "        topics_keywords = self.Get_lda_topics_keywords(lda_model)\n",
    "        self.Append_model_to_df(lda_model, corpus)\n",
    "        \n",
    "        model_names = self.Create_model_names(topics_keywords)\n",
    "        \n",
    "        with ThreadPoolExecutor(max_workers=5) as executor:\n",
    "            futures = [executor.submit(self.summarize_topic, i,model_names,max_titles_per_topic) for i in range(number_of_topics)]\n",
    "            for future in as_completed(futures):\n",
    "                i, topic_dict = future.result()\n",
    "                topics_dict[i] = topic_dict\n",
    "        \n",
    "        return topics_dict\n",
    "\n"
   ]
  },
  {
   "cell_type": "code",
   "execution_count": 29,
   "id": "2cec42d0",
   "metadata": {},
   "outputs": [
    {
     "name": "stderr",
     "output_type": "stream",
     "text": [
      "E0000 00:00:1759611388.355862  101145 alts_credentials.cc:93] ALTS creds ignored. Not running on GCP and untrusted ALTS is not enabled.\n"
     ]
    }
   ],
   "source": [
    "handler = LDA_handler(\"SB_publication_PMC.csv\")\n",
    "db_topics = handler.Create_topics_dict(5)"
   ]
  },
  {
   "cell_type": "code",
   "execution_count": 30,
   "id": "25c5eee5",
   "metadata": {},
   "outputs": [
    {
     "name": "stdout",
     "output_type": "stream",
     "text": [
      "{3: {'name': 'Spaceflight Muscle & Radiation', 'description': 'This topic delves into the critical physiological challenges faced by astronauts during space missions: the impact of the space environment on muscle health and the risks associated with radiation exposure. It explores how microgravity leads to muscle atrophy and bone demineralization, and the biological effects of cosmic and solar radiation, including DNA damage and increased cancer risk. This area also covers research into protective measures, countermeasures, and technologies designed to mitigate these health hazards, ensuring astronaut safety and mission success for future long-duration spaceflight.'}, 4: {'name': 'Spaceflight Plant & Invertebrate Biology', 'description': 'This topic delves into the fascinating world of how plants and invertebrates respond to the unique and challenging conditions of spaceflight. It encompasses research on their fundamental biology under stress, such as the molecular and cellular reactions to high-energy (HZE) radiation – a major component of the space environment – and how these responses compare to conventional stressors. Key areas include understanding plant development, like the intricate roles of hormones (e.g., brassinosteroids) in regulating cell division and stem cell differentiation, which are vital for plant growth in microgravity. Additionally, the topic covers studies on plant stress resilience, exploring mechanisms like protein-mediated responses to heat stress and calcium signaling (as seen in *Arabidopsis*), providing crucial insights into how these organisms might adapt and survive beyond Earth.'}, 0: {'name': 'ISS Human & Mouse Genetics', 'description': 'The \"ISS Human & Mouse Genetics\" topic delves into the intricate ways the space environment, particularly on the International Space Station (ISS), influences the genetic makeup and physiological responses of living organisms. This area of research primarily investigates the molecular adaptations of humans and mice to microgravity, radiation, and other unique space conditions.\\n\\nStudies explore the development of novel systems for analyzing gene expression directly on the ISS, examine genetic factors affecting physiological changes like bone formation in rodent models under simulated space conditions, and establish protocols for processing tissues for post-flight genetic analysis. Beyond human and mouse models, this category also encompasses crucial research into the genetic adaptation and stress responses of various microbial species, such as Bacillus subtilis and Salmonella, to the ISS environment. These investigations utilize advanced techniques like comparative genomics and functional gene annotation to understand how bacteria survive and evolve in space.\\n\\nAdditionally, the topic may touch upon broader biomedical applications related to human health and defense mechanisms, drawing insights from cutting-edge molecular and genetic research.'}, 2: {'name': 'Microgravity Effects: Bone & Plants', 'description': 'This topic delves into the critical field of **microgravity effects** on biological systems, a vital area of study for understanding life in space and on Earth. It investigates the intricate ways microgravity impacts **bone health**, examining cellular processes like osteocyte apoptosis and the resulting bone resorption, often studied using simulated microgravity models.\\n\\nBeyond bone, the category also explores the broader physiological responses to simulated microgravity, including its combined effects with other space-related stressors like radiation on various organ systems, such as the heart, analyzing changes in oxidative stress and tissue remodeling. Furthermore, it touches upon the fascinating world of microbial life in space-related environments, including the genomic characterization of novel species discovered in facilities for Mars missions. While the overarching scope of microgravity research encompasses its effects on plants, the current collection of articles primarily focuses on mammalian physiological adaptations and microbial resilience in space-related conditions.'}, 1: {'name': 'Spaceflight Bone Loss & Genomics', 'description': 'The topic \"Spaceflight Bone Loss & Genomics\" investigates the critical challenge of bone density loss experienced by astronauts during space missions, exploring the intricate genetic and genomic factors that underpin this physiological response. It delves into how the unique environmental stressors of space, such as microgravity and radiation, trigger changes at the cellular and molecular level, impacting bone health with the goal of identifying biomarkers and developing effective countermeasures.\\n\\nResearch in this domain often examines how various environmental cues can influence biological remodeling, including studies on bone loss induced by specific environmental conditions in preclinical models. This field also investigates methods for preserving bone mass and architecture, such as cellular therapies designed to counteract damage from stressors like radiation exposure, which is a major concern for long-duration space travel. By integrating genomic approaches, this area of study seeks to understand individual susceptibility and develop targeted strategies to protect astronaut bone health.'}}\n"
     ]
    }
   ],
   "source": [
    "print(db_topics)"
   ]
  },
  {
   "cell_type": "code",
   "execution_count": null,
   "id": "8106c465",
   "metadata": {},
   "outputs": [
    {
     "name": "stdout",
     "output_type": "stream",
     "text": [
      "Spaceflight Muscle & Radiation\n"
     ]
    }
   ],
   "source": []
  },
  {
   "cell_type": "code",
   "execution_count": null,
   "id": "f4bc03ce",
   "metadata": {},
   "outputs": [],
   "source": []
  }
 ],
 "metadata": {
  "kernelspec": {
   "display_name": "Python 3",
   "language": "python",
   "name": "python3"
  },
  "language_info": {
   "codemirror_mode": {
    "name": "ipython",
    "version": 3
   },
   "file_extension": ".py",
   "mimetype": "text/x-python",
   "name": "python",
   "nbconvert_exporter": "python",
   "pygments_lexer": "ipython3",
   "version": "3.11.13"
  }
 },
 "nbformat": 4,
 "nbformat_minor": 5
}
